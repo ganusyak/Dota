{
 "cells": [
  {
   "cell_type": "code",
   "execution_count": 1,
   "metadata": {},
   "outputs": [],
   "source": [
    "# LB Score = 0.83793\n",
    "\n",
    "# version 1.3\n",
    "# Added Total damage feature"
   ]
  },
  {
   "cell_type": "code",
   "execution_count": 17,
   "metadata": {},
   "outputs": [],
   "source": [
    "import statistics as st\n",
    "from scipy.sparse import hstack\n",
    "import time\n",
    "import lightgbm as lgb\n",
    "import pandas as pd\n",
    "import numpy as np\n",
    "from sklearn.linear_model import LogisticRegression\n",
    "from sklearn.ensemble import RandomForestClassifier\n",
    "import seaborn as sns\n",
    "from matplotlib import pyplot as plt\n",
    "from sklearn.metrics import roc_auc_score\n",
    "from sklearn.model_selection import TimeSeriesSplit, cross_val_score, GridSearchCV, StratifiedKFold, KFold\n",
    "from sklearn.preprocessing import StandardScaler\n",
    "import ujson as json\n",
    "from tqdm import tqdm_notebook"
   ]
  },
  {
   "cell_type": "code",
   "execution_count": 3,
   "metadata": {},
   "outputs": [],
   "source": [
    "def prepare_submit(model, x_test, file_name = 'submission'):\n",
    "    y_test_pred= model.predict_proba(X_test)[:, 1]\n",
    "    df_submission = pd.DataFrame({'radiant_win_prob': y_test_pred}, \n",
    "                                 index=df_test_features.index)\n",
    "    df_submission.to_csv(file_name)"
   ]
  },
  {
   "cell_type": "code",
   "execution_count": 4,
   "metadata": {},
   "outputs": [],
   "source": [
    "def train_model(X, X_test, y, params, folds, model_type='lgb', plot_feature_importance=False, averaging='usual', model=None, silent = False):\n",
    "    oof = np.zeros(len(X))\n",
    "    prediction = np.zeros(len(X_test))\n",
    "    scores = []\n",
    "    feature_importance = pd.DataFrame()\n",
    "    for fold_n, (train_index, valid_index) in enumerate(folds.split(X, y)):\n",
    "        if (not silent) : print('Fold', fold_n, 'started at', time.ctime())\n",
    "        X_train, X_valid = X.loc[train_index], X.loc[valid_index]\n",
    "        y_train, y_valid = y[train_index], y[valid_index]\n",
    "        \n",
    "        if model_type == 'lgb':\n",
    "            train_data = lgb.Dataset(X_train, label=y_train)\n",
    "            valid_data = lgb.Dataset(X_valid, label=y_valid)\n",
    "            \n",
    "            model = lgb.train(params,\n",
    "                    train_data,\n",
    "                    num_boost_round=20000,\n",
    "                    valid_sets = [train_data, valid_data],\n",
    "                    verbose_eval=1000,\n",
    "                    early_stopping_rounds = 2000)\n",
    "            \n",
    "            y_pred_valid = model.predict(X_valid)\n",
    "            y_pred = model.predict(X_test, num_iteration=model.best_iteration)\n",
    "            \n",
    "        \n",
    "            \n",
    "        oof[valid_index] = y_pred_valid.reshape(-1,)\n",
    "        scores.append(roc_auc_score(y_valid, y_pred_valid))\n",
    "\n",
    "        if averaging == 'usual':\n",
    "            prediction += y_pred\n",
    "        elif averaging == 'rank':\n",
    "            prediction += pd.Series(y_pred).rank().values  \n",
    "        \n",
    "        if model_type == 'lgb':\n",
    "            # feature importance\n",
    "            fold_importance = pd.DataFrame()\n",
    "            fold_importance[\"feature\"] = X.columns\n",
    "            fold_importance[\"importance\"] = model.feature_importance()\n",
    "            fold_importance[\"fold\"] = fold_n + 1\n",
    "            feature_importance = pd.concat([feature_importance, fold_importance], axis=0)\n",
    "\n",
    "    prediction /= n_fold\n",
    "    \n",
    "    print('CV mean score: {0:.4f}, std: {1:.4f}.'.format(np.mean(scores), np.std(scores)))\n",
    "    \n",
    "    if model_type == 'lgb':\n",
    "        feature_importance[\"importance\"] /= n_fold\n",
    "        if plot_feature_importance:\n",
    "            cols = feature_importance[[\"feature\", \"importance\"]].groupby(\"feature\").mean().sort_values(\n",
    "                by=\"importance\", ascending=False)[:20].index\n",
    "\n",
    "            best_features = feature_importance.loc[feature_importance.feature.isin(cols)]\n",
    "\n",
    "            plt.figure(figsize=(16, 10));\n",
    "            sns.barplot(x=\"importance\", y=\"feature\", data=best_features.sort_values(by=\"importance\", ascending=False));\n",
    "            plt.title('LGB Features (avg over folds)');\n",
    "        \n",
    "            return oof, prediction, feature_importance\n",
    "        return oof, prediction, scores\n",
    "    \n",
    "    else:\n",
    "        return oof, prediction, scores"
   ]
  },
  {
   "cell_type": "code",
   "execution_count": 5,
   "metadata": {},
   "outputs": [],
   "source": [
    "train = pd.read_csv('../data/train_features.csv', index_col='match_id_hash')\n",
    "target = pd.read_csv('../data/train_targets.csv', index_col='match_id_hash')\n",
    "test = pd.read_csv('../data/test_features.csv', index_col='match_id_hash')"
   ]
  },
  {
   "cell_type": "code",
   "execution_count": 6,
   "metadata": {},
   "outputs": [],
   "source": [
    "split_index = train.shape[0]"
   ]
  },
  {
   "cell_type": "code",
   "execution_count": 7,
   "metadata": {},
   "outputs": [],
   "source": [
    "df = pd.concat([train, test], sort=False)"
   ]
  },
  {
   "cell_type": "code",
   "execution_count": null,
   "metadata": {},
   "outputs": [],
   "source": []
  },
  {
   "cell_type": "code",
   "execution_count": null,
   "metadata": {},
   "outputs": [],
   "source": []
  },
  {
   "cell_type": "code",
   "execution_count": null,
   "metadata": {},
   "outputs": [],
   "source": []
  },
  {
   "cell_type": "code",
   "execution_count": null,
   "metadata": {},
   "outputs": [],
   "source": []
  },
  {
   "cell_type": "code",
   "execution_count": 8,
   "metadata": {},
   "outputs": [],
   "source": [
    "FE = pd.read_csv('FE.csv', index_col='match_id_hash')"
   ]
  },
  {
   "cell_type": "code",
   "execution_count": 9,
   "metadata": {},
   "outputs": [],
   "source": [
    "df = pd.concat([df, FE], axis = 1, sort = False)"
   ]
  },
  {
   "cell_type": "code",
   "execution_count": null,
   "metadata": {},
   "outputs": [],
   "source": []
  },
  {
   "cell_type": "code",
   "execution_count": null,
   "metadata": {},
   "outputs": [],
   "source": []
  },
  {
   "cell_type": "code",
   "execution_count": null,
   "metadata": {},
   "outputs": [],
   "source": []
  },
  {
   "cell_type": "code",
   "execution_count": 10,
   "metadata": {},
   "outputs": [],
   "source": [
    "items_damage = pd.read_csv('new_features.csv', index_col='match_id_hash')"
   ]
  },
  {
   "cell_type": "code",
   "execution_count": 11,
   "metadata": {},
   "outputs": [],
   "source": [
    "df = pd.concat([df, items_damage], axis = 1, sort = False)"
   ]
  },
  {
   "cell_type": "code",
   "execution_count": 12,
   "metadata": {},
   "outputs": [],
   "source": [
    "new_features = pd.DataFrame()"
   ]
  },
  {
   "cell_type": "code",
   "execution_count": 13,
   "metadata": {},
   "outputs": [],
   "source": [
    "r_x_min = df[['r1_x', 'r2_x','r3_x','r4_x','r5_x']].min(axis = 1)\n",
    "r_y_min = df[['r1_y', 'r2_y','r3_y','r4_y','r5_y']].min(axis = 1)\n",
    "r_x_max = df[['r1_x', 'r2_x','r3_x','r4_x','r5_x']].max(axis = 1)\n",
    "r_y_max = df[['r1_y', 'r2_y','r3_y','r4_y','r5_y']].max(axis = 1)"
   ]
  },
  {
   "cell_type": "code",
   "execution_count": 21,
   "metadata": {},
   "outputs": [],
   "source": [
    "new_features['r1_dist'] = np.sqrt((df['r1_y'] - r_y_min)**2 + (df['r1_x'] - r_x_min)**2)\n",
    "new_features['r2_dist'] = np.sqrt((df['r2_y'] - r_y_min)**2 + (df['r2_x'] - r_x_min)**2)\n",
    "new_features['r3_dist'] = np.sqrt((df['r3_y'] - r_y_min)**2 + (df['r3_x'] - r_x_min)**2)\n",
    "new_features['r4_dist'] = np.sqrt((df['r4_y'] - r_y_min)**2 + (df['r4_x'] - r_x_min)**2)\n",
    "new_features['r5_dist'] = np.sqrt((df['r5_y'] - r_y_min)**2 + (df['r5_x'] - r_x_min)**2)"
   ]
  },
  {
   "cell_type": "code",
   "execution_count": 22,
   "metadata": {},
   "outputs": [],
   "source": [
    "new_features['r_avg_dist'] = new_features[['r1_dist', 'r2_dist', 'r3_dist', 'r4_dist', 'r5_dist']].mean(axis = 1)"
   ]
  },
  {
   "cell_type": "code",
   "execution_count": 23,
   "metadata": {},
   "outputs": [],
   "source": [
    "new_features['d1_dist'] = np.sqrt((df['d1_y'] - r_y_max)**2 + (df['d1_x'] - r_x_max)**2)\n",
    "new_features['d2_dist'] = np.sqrt((df['d2_y'] - r_y_max)**2 + (df['d2_x'] - r_x_max)**2)\n",
    "new_features['d3_dist'] = np.sqrt((df['d3_y'] - r_y_max)**2 + (df['d3_x'] - r_x_max)**2)\n",
    "new_features['d4_dist'] = np.sqrt((df['d4_y'] - r_y_max)**2 + (df['d4_x'] - r_x_max)**2)\n",
    "new_features['d5_dist'] = np.sqrt((df['d5_y'] - r_y_max)**2 + (df['d5_x'] - r_x_max)**2)"
   ]
  },
  {
   "cell_type": "code",
   "execution_count": 24,
   "metadata": {},
   "outputs": [],
   "source": [
    "new_features['d_avg_dist'] = new_features[['d1_dist', 'd2_dist', 'd3_dist', 'd4_dist', 'd5_dist']].mean(axis = 1)"
   ]
  },
  {
   "cell_type": "code",
   "execution_count": 25,
   "metadata": {},
   "outputs": [],
   "source": [
    "new_features['dist_prop'] =  new_features['r_avg_dist'] / new_features['d_avg_dist']"
   ]
  },
  {
   "cell_type": "code",
   "execution_count": 28,
   "metadata": {},
   "outputs": [],
   "source": [
    "new_features = new_features.drop(['r1_dist', 'r2_dist', 'r3_dist','r4_dist','r5_dist', \n",
    "              'd1_dist', 'd2_dist', 'd3_dist', 'd4_dist', 'd5_dist'], axis = 1)"
   ]
  },
  {
   "cell_type": "code",
   "execution_count": 29,
   "metadata": {},
   "outputs": [],
   "source": [
    "df = pd.concat([df, new_features], axis = 1, sort = False)"
   ]
  },
  {
   "cell_type": "code",
   "execution_count": null,
   "metadata": {},
   "outputs": [],
   "source": []
  },
  {
   "cell_type": "code",
   "execution_count": null,
   "metadata": {},
   "outputs": [],
   "source": []
  },
  {
   "cell_type": "code",
   "execution_count": 30,
   "metadata": {},
   "outputs": [],
   "source": [
    "n_fold = 5\n",
    "folds = StratifiedKFold(n_splits=n_fold, shuffle=True, random_state=42)"
   ]
  },
  {
   "cell_type": "code",
   "execution_count": 31,
   "metadata": {},
   "outputs": [
    {
     "data": {
      "text/plain": [
       "(49675, 845)"
      ]
     },
     "execution_count": 31,
     "metadata": {},
     "output_type": "execute_result"
    }
   ],
   "source": [
    "df.shape"
   ]
  },
  {
   "cell_type": "code",
   "execution_count": 32,
   "metadata": {},
   "outputs": [],
   "source": [
    "df = df.drop('r1_roshans_killed', axis = 1)\n",
    "df = df.drop('r2_roshans_killed', axis = 1)\n",
    "df = df.drop('r3_roshans_killed', axis = 1)\n",
    "df = df.drop('r4_roshans_killed', axis = 1)\n",
    "df = df.drop('r5_roshans_killed', axis = 1)"
   ]
  },
  {
   "cell_type": "code",
   "execution_count": 33,
   "metadata": {},
   "outputs": [],
   "source": [
    "df = df.drop('d1_roshans_killed', axis = 1)\n",
    "df = df.drop('d2_roshans_killed', axis = 1)\n",
    "df = df.drop('d3_roshans_killed', axis = 1)\n",
    "df = df.drop('d4_roshans_killed', axis = 1)\n",
    "df = df.drop('d5_roshans_killed', axis = 1)"
   ]
  },
  {
   "cell_type": "code",
   "execution_count": 34,
   "metadata": {},
   "outputs": [
    {
     "data": {
      "text/plain": [
       "(49675, 835)"
      ]
     },
     "execution_count": 34,
     "metadata": {},
     "output_type": "execute_result"
    }
   ],
   "source": [
    "df.shape"
   ]
  },
  {
   "cell_type": "code",
   "execution_count": null,
   "metadata": {},
   "outputs": [],
   "source": []
  },
  {
   "cell_type": "code",
   "execution_count": null,
   "metadata": {},
   "outputs": [],
   "source": []
  },
  {
   "cell_type": "code",
   "execution_count": null,
   "metadata": {},
   "outputs": [],
   "source": []
  },
  {
   "cell_type": "code",
   "execution_count": null,
   "metadata": {},
   "outputs": [],
   "source": []
  },
  {
   "cell_type": "code",
   "execution_count": null,
   "metadata": {},
   "outputs": [],
   "source": []
  },
  {
   "cell_type": "code",
   "execution_count": null,
   "metadata": {},
   "outputs": [],
   "source": []
  },
  {
   "cell_type": "code",
   "execution_count": null,
   "metadata": {},
   "outputs": [],
   "source": []
  },
  {
   "cell_type": "code",
   "execution_count": 35,
   "metadata": {},
   "outputs": [],
   "source": [
    "train = df[:split_index].copy()\n",
    "test = df[split_index:].copy()"
   ]
  },
  {
   "cell_type": "code",
   "execution_count": 36,
   "metadata": {},
   "outputs": [
    {
     "data": {
      "text/html": [
       "<div>\n",
       "<style scoped>\n",
       "    .dataframe tbody tr th:only-of-type {\n",
       "        vertical-align: middle;\n",
       "    }\n",
       "\n",
       "    .dataframe tbody tr th {\n",
       "        vertical-align: top;\n",
       "    }\n",
       "\n",
       "    .dataframe thead th {\n",
       "        text-align: right;\n",
       "    }\n",
       "</style>\n",
       "<table border=\"1\" class=\"dataframe\">\n",
       "  <thead>\n",
       "    <tr style=\"text-align: right;\">\n",
       "      <th></th>\n",
       "      <th>game_time</th>\n",
       "      <th>game_mode</th>\n",
       "      <th>lobby_type</th>\n",
       "      <th>objectives_len</th>\n",
       "      <th>chat_len</th>\n",
       "      <th>r1_hero_id</th>\n",
       "      <th>r1_kills</th>\n",
       "      <th>r1_deaths</th>\n",
       "      <th>r1_assists</th>\n",
       "      <th>r1_denies</th>\n",
       "      <th>...</th>\n",
       "      <th>d_item_yasha</th>\n",
       "      <th>radiant_tower_kills</th>\n",
       "      <th>dire_tower_kills</th>\n",
       "      <th>diff_tower_kills</th>\n",
       "      <th>r_damage</th>\n",
       "      <th>d_damage</th>\n",
       "      <th>diff_damage</th>\n",
       "      <th>r_avg_dist</th>\n",
       "      <th>d_avg_dist</th>\n",
       "      <th>dist_prop</th>\n",
       "    </tr>\n",
       "    <tr>\n",
       "      <th>match_id_hash</th>\n",
       "      <th></th>\n",
       "      <th></th>\n",
       "      <th></th>\n",
       "      <th></th>\n",
       "      <th></th>\n",
       "      <th></th>\n",
       "      <th></th>\n",
       "      <th></th>\n",
       "      <th></th>\n",
       "      <th></th>\n",
       "      <th></th>\n",
       "      <th></th>\n",
       "      <th></th>\n",
       "      <th></th>\n",
       "      <th></th>\n",
       "      <th></th>\n",
       "      <th></th>\n",
       "      <th></th>\n",
       "      <th></th>\n",
       "      <th></th>\n",
       "      <th></th>\n",
       "    </tr>\n",
       "  </thead>\n",
       "  <tbody>\n",
       "    <tr>\n",
       "      <th>a400b8f29dece5f4d266f49f1ae2e98a</th>\n",
       "      <td>155</td>\n",
       "      <td>22</td>\n",
       "      <td>7</td>\n",
       "      <td>1</td>\n",
       "      <td>11</td>\n",
       "      <td>11</td>\n",
       "      <td>0</td>\n",
       "      <td>0</td>\n",
       "      <td>0</td>\n",
       "      <td>0</td>\n",
       "      <td>...</td>\n",
       "      <td>0.0</td>\n",
       "      <td>0.0</td>\n",
       "      <td>0.0</td>\n",
       "      <td>0.0</td>\n",
       "      <td>948.0</td>\n",
       "      <td>2949.0</td>\n",
       "      <td>-2001.0</td>\n",
       "      <td>69.507308</td>\n",
       "      <td>71.724262</td>\n",
       "      <td>0.969091</td>\n",
       "    </tr>\n",
       "    <tr>\n",
       "      <th>b9c57c450ce74a2af79c9ce96fac144d</th>\n",
       "      <td>658</td>\n",
       "      <td>4</td>\n",
       "      <td>0</td>\n",
       "      <td>3</td>\n",
       "      <td>10</td>\n",
       "      <td>15</td>\n",
       "      <td>7</td>\n",
       "      <td>2</td>\n",
       "      <td>0</td>\n",
       "      <td>7</td>\n",
       "      <td>...</td>\n",
       "      <td>0.0</td>\n",
       "      <td>2.0</td>\n",
       "      <td>0.0</td>\n",
       "      <td>2.0</td>\n",
       "      <td>17463.0</td>\n",
       "      <td>13063.0</td>\n",
       "      <td>4400.0</td>\n",
       "      <td>79.937039</td>\n",
       "      <td>48.190104</td>\n",
       "      <td>1.658785</td>\n",
       "    </tr>\n",
       "    <tr>\n",
       "      <th>6db558535151ea18ca70a6892197db41</th>\n",
       "      <td>21</td>\n",
       "      <td>23</td>\n",
       "      <td>0</td>\n",
       "      <td>0</td>\n",
       "      <td>0</td>\n",
       "      <td>101</td>\n",
       "      <td>0</td>\n",
       "      <td>0</td>\n",
       "      <td>0</td>\n",
       "      <td>0</td>\n",
       "      <td>...</td>\n",
       "      <td>0.0</td>\n",
       "      <td>0.0</td>\n",
       "      <td>0.0</td>\n",
       "      <td>0.0</td>\n",
       "      <td>70.0</td>\n",
       "      <td>68.0</td>\n",
       "      <td>2.0</td>\n",
       "      <td>68.157552</td>\n",
       "      <td>40.479926</td>\n",
       "      <td>1.683737</td>\n",
       "    </tr>\n",
       "    <tr>\n",
       "      <th>46a0ddce8f7ed2a8d9bd5edcbb925682</th>\n",
       "      <td>576</td>\n",
       "      <td>22</td>\n",
       "      <td>7</td>\n",
       "      <td>1</td>\n",
       "      <td>4</td>\n",
       "      <td>14</td>\n",
       "      <td>1</td>\n",
       "      <td>0</td>\n",
       "      <td>3</td>\n",
       "      <td>1</td>\n",
       "      <td>...</td>\n",
       "      <td>0.0</td>\n",
       "      <td>0.0</td>\n",
       "      <td>0.0</td>\n",
       "      <td>0.0</td>\n",
       "      <td>15542.0</td>\n",
       "      <td>8337.0</td>\n",
       "      <td>7205.0</td>\n",
       "      <td>71.153249</td>\n",
       "      <td>75.978428</td>\n",
       "      <td>0.936493</td>\n",
       "    </tr>\n",
       "    <tr>\n",
       "      <th>b1b35ff97723d9b7ade1c9c3cf48f770</th>\n",
       "      <td>453</td>\n",
       "      <td>22</td>\n",
       "      <td>7</td>\n",
       "      <td>1</td>\n",
       "      <td>3</td>\n",
       "      <td>42</td>\n",
       "      <td>0</td>\n",
       "      <td>1</td>\n",
       "      <td>1</td>\n",
       "      <td>0</td>\n",
       "      <td>...</td>\n",
       "      <td>0.0</td>\n",
       "      <td>0.0</td>\n",
       "      <td>0.0</td>\n",
       "      <td>0.0</td>\n",
       "      <td>5940.0</td>\n",
       "      <td>11951.0</td>\n",
       "      <td>-6011.0</td>\n",
       "      <td>69.738720</td>\n",
       "      <td>67.839303</td>\n",
       "      <td>1.027999</td>\n",
       "    </tr>\n",
       "  </tbody>\n",
       "</table>\n",
       "<p>5 rows × 835 columns</p>\n",
       "</div>"
      ],
      "text/plain": [
       "                                  game_time  game_mode  lobby_type  \\\n",
       "match_id_hash                                                        \n",
       "a400b8f29dece5f4d266f49f1ae2e98a        155         22           7   \n",
       "b9c57c450ce74a2af79c9ce96fac144d        658          4           0   \n",
       "6db558535151ea18ca70a6892197db41         21         23           0   \n",
       "46a0ddce8f7ed2a8d9bd5edcbb925682        576         22           7   \n",
       "b1b35ff97723d9b7ade1c9c3cf48f770        453         22           7   \n",
       "\n",
       "                                  objectives_len  chat_len  r1_hero_id  \\\n",
       "match_id_hash                                                            \n",
       "a400b8f29dece5f4d266f49f1ae2e98a               1        11          11   \n",
       "b9c57c450ce74a2af79c9ce96fac144d               3        10          15   \n",
       "6db558535151ea18ca70a6892197db41               0         0         101   \n",
       "46a0ddce8f7ed2a8d9bd5edcbb925682               1         4          14   \n",
       "b1b35ff97723d9b7ade1c9c3cf48f770               1         3          42   \n",
       "\n",
       "                                  r1_kills  r1_deaths  r1_assists  r1_denies  \\\n",
       "match_id_hash                                                                  \n",
       "a400b8f29dece5f4d266f49f1ae2e98a         0          0           0          0   \n",
       "b9c57c450ce74a2af79c9ce96fac144d         7          2           0          7   \n",
       "6db558535151ea18ca70a6892197db41         0          0           0          0   \n",
       "46a0ddce8f7ed2a8d9bd5edcbb925682         1          0           3          1   \n",
       "b1b35ff97723d9b7ade1c9c3cf48f770         0          1           1          0   \n",
       "\n",
       "                                  ...  d_item_yasha  radiant_tower_kills  \\\n",
       "match_id_hash                     ...                                      \n",
       "a400b8f29dece5f4d266f49f1ae2e98a  ...           0.0                  0.0   \n",
       "b9c57c450ce74a2af79c9ce96fac144d  ...           0.0                  2.0   \n",
       "6db558535151ea18ca70a6892197db41  ...           0.0                  0.0   \n",
       "46a0ddce8f7ed2a8d9bd5edcbb925682  ...           0.0                  0.0   \n",
       "b1b35ff97723d9b7ade1c9c3cf48f770  ...           0.0                  0.0   \n",
       "\n",
       "                                  dire_tower_kills  diff_tower_kills  \\\n",
       "match_id_hash                                                          \n",
       "a400b8f29dece5f4d266f49f1ae2e98a               0.0               0.0   \n",
       "b9c57c450ce74a2af79c9ce96fac144d               0.0               2.0   \n",
       "6db558535151ea18ca70a6892197db41               0.0               0.0   \n",
       "46a0ddce8f7ed2a8d9bd5edcbb925682               0.0               0.0   \n",
       "b1b35ff97723d9b7ade1c9c3cf48f770               0.0               0.0   \n",
       "\n",
       "                                  r_damage  d_damage  diff_damage  r_avg_dist  \\\n",
       "match_id_hash                                                                   \n",
       "a400b8f29dece5f4d266f49f1ae2e98a     948.0    2949.0      -2001.0   69.507308   \n",
       "b9c57c450ce74a2af79c9ce96fac144d   17463.0   13063.0       4400.0   79.937039   \n",
       "6db558535151ea18ca70a6892197db41      70.0      68.0          2.0   68.157552   \n",
       "46a0ddce8f7ed2a8d9bd5edcbb925682   15542.0    8337.0       7205.0   71.153249   \n",
       "b1b35ff97723d9b7ade1c9c3cf48f770    5940.0   11951.0      -6011.0   69.738720   \n",
       "\n",
       "                                  d_avg_dist  dist_prop  \n",
       "match_id_hash                                            \n",
       "a400b8f29dece5f4d266f49f1ae2e98a   71.724262   0.969091  \n",
       "b9c57c450ce74a2af79c9ce96fac144d   48.190104   1.658785  \n",
       "6db558535151ea18ca70a6892197db41   40.479926   1.683737  \n",
       "46a0ddce8f7ed2a8d9bd5edcbb925682   75.978428   0.936493  \n",
       "b1b35ff97723d9b7ade1c9c3cf48f770   67.839303   1.027999  \n",
       "\n",
       "[5 rows x 835 columns]"
      ]
     },
     "execution_count": 36,
     "metadata": {},
     "output_type": "execute_result"
    }
   ],
   "source": [
    "train.head()"
   ]
  },
  {
   "cell_type": "code",
   "execution_count": 37,
   "metadata": {},
   "outputs": [],
   "source": [
    "train['radiant_win'] = target['radiant_win']"
   ]
  },
  {
   "cell_type": "code",
   "execution_count": 38,
   "metadata": {},
   "outputs": [
    {
     "name": "stdout",
     "output_type": "stream",
     "text": [
      "Fold 0 started at Sun Oct 13 04:53:53 2019\n",
      "Training until validation scores don't improve for 2000 rounds\n",
      "[1000]\ttraining's auc: 0.887607\tvalid_1's auc: 0.828648\n",
      "[2000]\ttraining's auc: 0.934768\tvalid_1's auc: 0.831497\n",
      "[3000]\ttraining's auc: 0.964999\tvalid_1's auc: 0.832089\n",
      "[4000]\ttraining's auc: 0.983301\tvalid_1's auc: 0.832354\n",
      "[5000]\ttraining's auc: 0.993346\tvalid_1's auc: 0.832142\n",
      "Early stopping, best iteration is:\n",
      "[3830]\ttraining's auc: 0.980917\tvalid_1's auc: 0.832412\n",
      "Fold 1 started at Sun Oct 13 04:54:23 2019\n",
      "Training until validation scores don't improve for 2000 rounds\n",
      "[1000]\ttraining's auc: 0.889797\tvalid_1's auc: 0.81681\n",
      "[2000]\ttraining's auc: 0.935968\tvalid_1's auc: 0.820576\n",
      "[3000]\ttraining's auc: 0.965818\tvalid_1's auc: 0.821842\n",
      "[4000]\ttraining's auc: 0.983883\tvalid_1's auc: 0.82276\n",
      "[5000]\ttraining's auc: 0.993435\tvalid_1's auc: 0.822784\n",
      "[6000]\ttraining's auc: 0.997811\tvalid_1's auc: 0.822954\n",
      "[7000]\ttraining's auc: 0.999447\tvalid_1's auc: 0.823158\n",
      "[8000]\ttraining's auc: 0.999893\tvalid_1's auc: 0.822908\n",
      "[9000]\ttraining's auc: 0.999986\tvalid_1's auc: 0.822938\n",
      "Early stopping, best iteration is:\n",
      "[7313]\ttraining's auc: 0.999653\tvalid_1's auc: 0.823238\n",
      "Fold 2 started at Sun Oct 13 04:55:09 2019\n",
      "Training until validation scores don't improve for 2000 rounds\n",
      "[1000]\ttraining's auc: 0.887188\tvalid_1's auc: 0.831798\n",
      "[2000]\ttraining's auc: 0.934435\tvalid_1's auc: 0.834071\n",
      "[3000]\ttraining's auc: 0.964619\tvalid_1's auc: 0.835235\n",
      "[4000]\ttraining's auc: 0.983045\tvalid_1's auc: 0.835906\n",
      "[5000]\ttraining's auc: 0.993051\tvalid_1's auc: 0.835941\n",
      "[6000]\ttraining's auc: 0.997617\tvalid_1's auc: 0.835902\n",
      "[7000]\ttraining's auc: 0.99934\tvalid_1's auc: 0.835782\n",
      "Early stopping, best iteration is:\n",
      "[5755]\ttraining's auc: 0.996841\tvalid_1's auc: 0.836042\n",
      "Fold 3 started at Sun Oct 13 04:55:48 2019\n",
      "Training until validation scores don't improve for 2000 rounds\n",
      "[1000]\ttraining's auc: 0.887581\tvalid_1's auc: 0.829407\n",
      "[2000]\ttraining's auc: 0.934808\tvalid_1's auc: 0.831854\n",
      "[3000]\ttraining's auc: 0.964781\tvalid_1's auc: 0.832686\n",
      "[4000]\ttraining's auc: 0.982573\tvalid_1's auc: 0.832867\n",
      "[5000]\ttraining's auc: 0.99256\tvalid_1's auc: 0.832816\n",
      "Early stopping, best iteration is:\n",
      "[3377]\ttraining's auc: 0.972623\tvalid_1's auc: 0.832976\n",
      "Fold 4 started at Sun Oct 13 04:56:16 2019\n",
      "Training until validation scores don't improve for 2000 rounds\n",
      "[1000]\ttraining's auc: 0.887818\tvalid_1's auc: 0.828847\n",
      "[2000]\ttraining's auc: 0.93513\tvalid_1's auc: 0.831917\n",
      "[3000]\ttraining's auc: 0.965077\tvalid_1's auc: 0.832819\n",
      "[4000]\ttraining's auc: 0.982918\tvalid_1's auc: 0.833364\n",
      "[5000]\ttraining's auc: 0.992752\tvalid_1's auc: 0.833032\n",
      "[6000]\ttraining's auc: 0.997329\tvalid_1's auc: 0.832727\n",
      "Early stopping, best iteration is:\n",
      "[4124]\ttraining's auc: 0.98451\tvalid_1's auc: 0.833473\n",
      "CV mean score: 0.8316, std: 0.0044.\n"
     ]
    },
    {
     "data": {
      "image/png": "[encoded data removed]",
      "text/plain": [
       "<Figure size 1152x720 with 1 Axes>"
      ]
     },
     "metadata": {
      "needs_background": "light"
     },
     "output_type": "display_data"
    }
   ],
   "source": [
    "params = {'boost': 'gbdt',\n",
    "          'feature_fraction': 0.05,\n",
    "          'learning_rate': 0.01,\n",
    "          'max_depth': -1,  \n",
    "          'metric':'auc',\n",
    "          'min_data_in_leaf': 50,\n",
    "          'num_leaves': 32,\n",
    "          'num_threads': -1,\n",
    "          'verbosity': 1,\n",
    "          'objective': 'binary'\n",
    "         }\n",
    "\n",
    "X = train.drop(['radiant_win'], axis=1).reset_index(drop=True)\n",
    "y = target['radiant_win']\n",
    "X_test = test.reset_index(drop=True)\n",
    "\n",
    "oof_lgb, prediction_lgb, scores = train_model(X, X_test, y, params=params, folds=folds, model_type='lgb', plot_feature_importance=True, silent = False)"
   ]
  },
  {
   "cell_type": "code",
   "execution_count": 39,
   "metadata": {},
   "outputs": [
    {
     "data": {
      "text/plain": [
       "array([0.56355204, 0.99594015, 0.97438665, ..., 0.17502948, 0.22340102,\n",
       "       0.0769308 ])"
      ]
     },
     "execution_count": 39,
     "metadata": {},
     "output_type": "execute_result"
    }
   ],
   "source": [
    "prediction_lgb"
   ]
  },
  {
   "cell_type": "code",
   "execution_count": 40,
   "metadata": {},
   "outputs": [],
   "source": [
    "df_submission = pd.DataFrame({'radiant_win_prob': prediction_lgb}, \n",
    "                                 index=test.index)\n",
    "df_submission.to_csv('Submission6_EF_items_damage_coords.csv')"
   ]
  },
  {
   "cell_type": "code",
   "execution_count": null,
   "metadata": {},
   "outputs": [],
   "source": [
    "# CV mean score: 0.8290, std: 0.0049"
   ]
  },
  {
   "cell_type": "code",
   "execution_count": 41,
   "metadata": {},
   "outputs": [
    {
     "data": {
      "image/png": "[encoded data removed]",
      "text/plain": [
       "<Figure size 432x288 with 1 Axes>"
      ]
     },
     "metadata": {
      "needs_background": "light"
     },
     "output_type": "display_data"
    }
   ],
   "source": [
    "plt.hist(prediction_lgb, bins=40);\n",
    "plt.title('Distribution of predictions');"
   ]
  },
  {
   "cell_type": "code",
   "execution_count": null,
   "metadata": {},
   "outputs": [],
   "source": []
  }
 ],
 "metadata": {
  "kernelspec": {
   "display_name": "Python 3",
   "language": "python",
   "name": "python3"
  },
  "language_info": {
   "codemirror_mode": {
    "name": "ipython",
    "version": 3
   },
   "file_extension": ".py",
   "mimetype": "text/x-python",
   "name": "python",
   "nbconvert_exporter": "python",
   "pygments_lexer": "ipython3",
   "version": "3.7.3"
  }
 },
 "nbformat": 4,
 "nbformat_minor": 2
}
