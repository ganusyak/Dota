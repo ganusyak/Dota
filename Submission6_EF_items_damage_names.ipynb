{
 "cells": [
  {
   "cell_type": "code",
   "execution_count": 1,
   "metadata": {},
   "outputs": [],
   "source": [
    "# LB Score = 0.83793\n",
    "\n",
    "# version 1.3\n",
    "# Added Total damage feature"
   ]
  },
  {
   "cell_type": "code",
   "execution_count": 2,
   "metadata": {},
   "outputs": [],
   "source": [
    "from scipy.sparse import hstack\n",
    "import time\n",
    "import lightgbm as lgb\n",
    "import pandas as pd\n",
    "import numpy as np\n",
    "from sklearn.linear_model import LogisticRegression\n",
    "from sklearn.ensemble import RandomForestClassifier\n",
    "import seaborn as sns\n",
    "from matplotlib import pyplot as plt\n",
    "from sklearn.metrics import roc_auc_score\n",
    "from sklearn.model_selection import TimeSeriesSplit, cross_val_score, GridSearchCV, StratifiedKFold, KFold\n",
    "from sklearn.preprocessing import StandardScaler\n",
    "import ujson as json\n",
    "from tqdm import tqdm_notebook"
   ]
  },
  {
   "cell_type": "code",
   "execution_count": 3,
   "metadata": {},
   "outputs": [],
   "source": [
    "def prepare_submit(model, x_test, file_name = 'submission'):\n",
    "    y_test_pred= model.predict_proba(X_test)[:, 1]\n",
    "    df_submission = pd.DataFrame({'radiant_win_prob': y_test_pred}, \n",
    "                                 index=df_test_features.index)\n",
    "    df_submission.to_csv(file_name)"
   ]
  },
  {
   "cell_type": "code",
   "execution_count": 4,
   "metadata": {},
   "outputs": [],
   "source": [
    "def train_model(X, X_test, y, params, folds, model_type='lgb', plot_feature_importance=False, averaging='usual', model=None, silent = False):\n",
    "    oof = np.zeros(len(X))\n",
    "    prediction = np.zeros(len(X_test))\n",
    "    scores = []\n",
    "    feature_importance = pd.DataFrame()\n",
    "    for fold_n, (train_index, valid_index) in enumerate(folds.split(X, y)):\n",
    "        if (not silent) : print('Fold', fold_n, 'started at', time.ctime())\n",
    "        X_train, X_valid = X.loc[train_index], X.loc[valid_index]\n",
    "        y_train, y_valid = y[train_index], y[valid_index]\n",
    "        \n",
    "        if model_type == 'lgb':\n",
    "            train_data = lgb.Dataset(X_train, label=y_train)\n",
    "            valid_data = lgb.Dataset(X_valid, label=y_valid)\n",
    "            \n",
    "            model = lgb.train(params,\n",
    "                    train_data,\n",
    "                    num_boost_round=20000,\n",
    "                    valid_sets = [train_data, valid_data],\n",
    "                    verbose_eval=1000,\n",
    "                    early_stopping_rounds = 2000)\n",
    "            \n",
    "            y_pred_valid = model.predict(X_valid)\n",
    "            y_pred = model.predict(X_test, num_iteration=model.best_iteration)\n",
    "            \n",
    "        \n",
    "            \n",
    "        oof[valid_index] = y_pred_valid.reshape(-1,)\n",
    "        scores.append(roc_auc_score(y_valid, y_pred_valid))\n",
    "\n",
    "        if averaging == 'usual':\n",
    "            prediction += y_pred\n",
    "        elif averaging == 'rank':\n",
    "            prediction += pd.Series(y_pred).rank().values  \n",
    "        \n",
    "        if model_type == 'lgb':\n",
    "            # feature importance\n",
    "            fold_importance = pd.DataFrame()\n",
    "            fold_importance[\"feature\"] = X.columns\n",
    "            fold_importance[\"importance\"] = model.feature_importance()\n",
    "            fold_importance[\"fold\"] = fold_n + 1\n",
    "            feature_importance = pd.concat([feature_importance, fold_importance], axis=0)\n",
    "\n",
    "    prediction /= n_fold\n",
    "    \n",
    "    print('CV mean score: {0:.4f}, std: {1:.4f}.'.format(np.mean(scores), np.std(scores)))\n",
    "    \n",
    "    if model_type == 'lgb':\n",
    "        feature_importance[\"importance\"] /= n_fold\n",
    "        if plot_feature_importance:\n",
    "            cols = feature_importance[[\"feature\", \"importance\"]].groupby(\"feature\").mean().sort_values(\n",
    "                by=\"importance\", ascending=False)[:20].index\n",
    "\n",
    "            best_features = feature_importance.loc[feature_importance.feature.isin(cols)]\n",
    "\n",
    "            plt.figure(figsize=(16, 10));\n",
    "            sns.barplot(x=\"importance\", y=\"feature\", data=best_features.sort_values(by=\"importance\", ascending=False));\n",
    "            plt.title('LGB Features (avg over folds)');\n",
    "        \n",
    "            return oof, prediction, feature_importance\n",
    "        return oof, prediction, scores\n",
    "    \n",
    "    else:\n",
    "        return oof, prediction, scores"
   ]
  },
  {
   "cell_type": "code",
   "execution_count": 5,
   "metadata": {},
   "outputs": [],
   "source": [
    "train = pd.read_csv('../data/train_features.csv', index_col='match_id_hash')\n",
    "target = pd.read_csv('../data/train_targets.csv', index_col='match_id_hash')\n",
    "test = pd.read_csv('../data/test_features.csv', index_col='match_id_hash')"
   ]
  },
  {
   "cell_type": "code",
   "execution_count": 6,
   "metadata": {},
   "outputs": [],
   "source": [
    "split_index = train.shape[0]"
   ]
  },
  {
   "cell_type": "code",
   "execution_count": 7,
   "metadata": {},
   "outputs": [],
   "source": [
    "df = pd.concat([train, test], sort=False)"
   ]
  },
  {
   "cell_type": "code",
   "execution_count": null,
   "metadata": {},
   "outputs": [],
   "source": []
  },
  {
   "cell_type": "code",
   "execution_count": null,
   "metadata": {},
   "outputs": [],
   "source": []
  },
  {
   "cell_type": "code",
   "execution_count": null,
   "metadata": {},
   "outputs": [],
   "source": []
  },
  {
   "cell_type": "code",
   "execution_count": null,
   "metadata": {},
   "outputs": [],
   "source": []
  },
  {
   "cell_type": "code",
   "execution_count": 8,
   "metadata": {},
   "outputs": [],
   "source": [
    "FE = pd.read_csv('FE.csv', index_col='match_id_hash')"
   ]
  },
  {
   "cell_type": "code",
   "execution_count": 9,
   "metadata": {},
   "outputs": [],
   "source": [
    "df = pd.concat([df, FE], axis = 1)"
   ]
  },
  {
   "cell_type": "code",
   "execution_count": null,
   "metadata": {},
   "outputs": [],
   "source": []
  },
  {
   "cell_type": "code",
   "execution_count": null,
   "metadata": {},
   "outputs": [],
   "source": []
  },
  {
   "cell_type": "code",
   "execution_count": null,
   "metadata": {},
   "outputs": [],
   "source": []
  },
  {
   "cell_type": "code",
   "execution_count": 10,
   "metadata": {},
   "outputs": [],
   "source": [
    "items_damage = pd.read_csv('new_features.csv', index_col='match_id_hash')"
   ]
  },
  {
   "cell_type": "code",
   "execution_count": 11,
   "metadata": {},
   "outputs": [],
   "source": [
    "df = pd.concat([df, items_damage], axis = 1)"
   ]
  },
  {
   "cell_type": "code",
   "execution_count": null,
   "metadata": {},
   "outputs": [],
   "source": []
  },
  {
   "cell_type": "code",
   "execution_count": 12,
   "metadata": {},
   "outputs": [],
   "source": [
    "hero_names = pd.read_csv('hero_names.csv', index_col='match_id_hash')\n",
    "df = pd.concat([df, hero_names], axis = 1)"
   ]
  },
  {
   "cell_type": "code",
   "execution_count": null,
   "metadata": {},
   "outputs": [],
   "source": []
  },
  {
   "cell_type": "code",
   "execution_count": null,
   "metadata": {},
   "outputs": [],
   "source": []
  },
  {
   "cell_type": "code",
   "execution_count": null,
   "metadata": {},
   "outputs": [],
   "source": []
  },
  {
   "cell_type": "code",
   "execution_count": null,
   "metadata": {},
   "outputs": [],
   "source": []
  },
  {
   "cell_type": "code",
   "execution_count": null,
   "metadata": {},
   "outputs": [],
   "source": []
  },
  {
   "cell_type": "code",
   "execution_count": null,
   "metadata": {},
   "outputs": [],
   "source": []
  },
  {
   "cell_type": "code",
   "execution_count": null,
   "metadata": {},
   "outputs": [],
   "source": []
  },
  {
   "cell_type": "code",
   "execution_count": null,
   "metadata": {},
   "outputs": [],
   "source": []
  },
  {
   "cell_type": "code",
   "execution_count": null,
   "metadata": {},
   "outputs": [],
   "source": []
  },
  {
   "cell_type": "code",
   "execution_count": null,
   "metadata": {},
   "outputs": [],
   "source": []
  },
  {
   "cell_type": "code",
   "execution_count": null,
   "metadata": {},
   "outputs": [],
   "source": []
  },
  {
   "cell_type": "code",
   "execution_count": null,
   "metadata": {},
   "outputs": [],
   "source": []
  },
  {
   "cell_type": "code",
   "execution_count": 13,
   "metadata": {},
   "outputs": [],
   "source": [
    "n_fold = 5\n",
    "folds = StratifiedKFold(n_splits=n_fold, shuffle=True, random_state=42)"
   ]
  },
  {
   "cell_type": "code",
   "execution_count": 14,
   "metadata": {},
   "outputs": [
    {
     "data": {
      "text/plain": [
       "(49675, 1072)"
      ]
     },
     "execution_count": 14,
     "metadata": {},
     "output_type": "execute_result"
    }
   ],
   "source": [
    "df.shape"
   ]
  },
  {
   "cell_type": "code",
   "execution_count": 15,
   "metadata": {},
   "outputs": [],
   "source": [
    "df = df.drop('r1_roshans_killed', axis = 1)\n",
    "df = df.drop('r2_roshans_killed', axis = 1)\n",
    "df = df.drop('r3_roshans_killed', axis = 1)\n",
    "df = df.drop('r4_roshans_killed', axis = 1)\n",
    "df = df.drop('r5_roshans_killed', axis = 1)"
   ]
  },
  {
   "cell_type": "code",
   "execution_count": 16,
   "metadata": {},
   "outputs": [],
   "source": [
    "df = df.drop('d1_roshans_killed', axis = 1)\n",
    "df = df.drop('d2_roshans_killed', axis = 1)\n",
    "df = df.drop('d3_roshans_killed', axis = 1)\n",
    "df = df.drop('d4_roshans_killed', axis = 1)\n",
    "df = df.drop('d5_roshans_killed', axis = 1)"
   ]
  },
  {
   "cell_type": "code",
   "execution_count": 17,
   "metadata": {},
   "outputs": [
    {
     "data": {
      "text/plain": [
       "(49675, 1062)"
      ]
     },
     "execution_count": 17,
     "metadata": {},
     "output_type": "execute_result"
    }
   ],
   "source": [
    "df.shape"
   ]
  },
  {
   "cell_type": "code",
   "execution_count": null,
   "metadata": {},
   "outputs": [],
   "source": []
  },
  {
   "cell_type": "code",
   "execution_count": null,
   "metadata": {},
   "outputs": [],
   "source": []
  },
  {
   "cell_type": "code",
   "execution_count": null,
   "metadata": {},
   "outputs": [],
   "source": []
  },
  {
   "cell_type": "code",
   "execution_count": null,
   "metadata": {},
   "outputs": [],
   "source": []
  },
  {
   "cell_type": "code",
   "execution_count": null,
   "metadata": {},
   "outputs": [],
   "source": []
  },
  {
   "cell_type": "code",
   "execution_count": null,
   "metadata": {},
   "outputs": [],
   "source": []
  },
  {
   "cell_type": "code",
   "execution_count": null,
   "metadata": {},
   "outputs": [],
   "source": []
  },
  {
   "cell_type": "code",
   "execution_count": 18,
   "metadata": {},
   "outputs": [],
   "source": [
    "train = df[:split_index].copy()\n",
    "test = df[split_index:].copy()"
   ]
  },
  {
   "cell_type": "code",
   "execution_count": 19,
   "metadata": {},
   "outputs": [],
   "source": [
    "train = train.fillna(0)\n",
    "test = test.fillna(0)"
   ]
  },
  {
   "cell_type": "code",
   "execution_count": 20,
   "metadata": {},
   "outputs": [
    {
     "data": {
      "text/html": [
       "<div>\n",
       "<style scoped>\n",
       "    .dataframe tbody tr th:only-of-type {\n",
       "        vertical-align: middle;\n",
       "    }\n",
       "\n",
       "    .dataframe tbody tr th {\n",
       "        vertical-align: top;\n",
       "    }\n",
       "\n",
       "    .dataframe thead th {\n",
       "        text-align: right;\n",
       "    }\n",
       "</style>\n",
       "<table border=\"1\" class=\"dataframe\">\n",
       "  <thead>\n",
       "    <tr style=\"text-align: right;\">\n",
       "      <th></th>\n",
       "      <th>game_time</th>\n",
       "      <th>game_mode</th>\n",
       "      <th>lobby_type</th>\n",
       "      <th>objectives_len</th>\n",
       "      <th>chat_len</th>\n",
       "      <th>r1_hero_id</th>\n",
       "      <th>r1_kills</th>\n",
       "      <th>r1_deaths</th>\n",
       "      <th>r1_assists</th>\n",
       "      <th>r1_denies</th>\n",
       "      <th>...</th>\n",
       "      <th>d_hero_90</th>\n",
       "      <th>d_hero_91</th>\n",
       "      <th>d_hero_92</th>\n",
       "      <th>d_hero_93</th>\n",
       "      <th>d_hero_94</th>\n",
       "      <th>d_hero_95</th>\n",
       "      <th>d_hero_96</th>\n",
       "      <th>d_hero_97</th>\n",
       "      <th>d_hero_98</th>\n",
       "      <th>d_hero_99</th>\n",
       "    </tr>\n",
       "    <tr>\n",
       "      <th>match_id_hash</th>\n",
       "      <th></th>\n",
       "      <th></th>\n",
       "      <th></th>\n",
       "      <th></th>\n",
       "      <th></th>\n",
       "      <th></th>\n",
       "      <th></th>\n",
       "      <th></th>\n",
       "      <th></th>\n",
       "      <th></th>\n",
       "      <th></th>\n",
       "      <th></th>\n",
       "      <th></th>\n",
       "      <th></th>\n",
       "      <th></th>\n",
       "      <th></th>\n",
       "      <th></th>\n",
       "      <th></th>\n",
       "      <th></th>\n",
       "      <th></th>\n",
       "      <th></th>\n",
       "    </tr>\n",
       "  </thead>\n",
       "  <tbody>\n",
       "    <tr>\n",
       "      <th>a400b8f29dece5f4d266f49f1ae2e98a</th>\n",
       "      <td>155</td>\n",
       "      <td>22</td>\n",
       "      <td>7</td>\n",
       "      <td>1</td>\n",
       "      <td>11</td>\n",
       "      <td>11</td>\n",
       "      <td>0</td>\n",
       "      <td>0</td>\n",
       "      <td>0</td>\n",
       "      <td>0</td>\n",
       "      <td>...</td>\n",
       "      <td>0</td>\n",
       "      <td>0</td>\n",
       "      <td>0</td>\n",
       "      <td>0</td>\n",
       "      <td>0</td>\n",
       "      <td>0</td>\n",
       "      <td>0</td>\n",
       "      <td>0</td>\n",
       "      <td>0</td>\n",
       "      <td>0</td>\n",
       "    </tr>\n",
       "    <tr>\n",
       "      <th>b9c57c450ce74a2af79c9ce96fac144d</th>\n",
       "      <td>658</td>\n",
       "      <td>4</td>\n",
       "      <td>0</td>\n",
       "      <td>3</td>\n",
       "      <td>10</td>\n",
       "      <td>15</td>\n",
       "      <td>7</td>\n",
       "      <td>2</td>\n",
       "      <td>0</td>\n",
       "      <td>7</td>\n",
       "      <td>...</td>\n",
       "      <td>0</td>\n",
       "      <td>0</td>\n",
       "      <td>1</td>\n",
       "      <td>0</td>\n",
       "      <td>0</td>\n",
       "      <td>0</td>\n",
       "      <td>0</td>\n",
       "      <td>0</td>\n",
       "      <td>0</td>\n",
       "      <td>0</td>\n",
       "    </tr>\n",
       "    <tr>\n",
       "      <th>6db558535151ea18ca70a6892197db41</th>\n",
       "      <td>21</td>\n",
       "      <td>23</td>\n",
       "      <td>0</td>\n",
       "      <td>0</td>\n",
       "      <td>0</td>\n",
       "      <td>101</td>\n",
       "      <td>0</td>\n",
       "      <td>0</td>\n",
       "      <td>0</td>\n",
       "      <td>0</td>\n",
       "      <td>...</td>\n",
       "      <td>0</td>\n",
       "      <td>0</td>\n",
       "      <td>0</td>\n",
       "      <td>0</td>\n",
       "      <td>0</td>\n",
       "      <td>0</td>\n",
       "      <td>0</td>\n",
       "      <td>0</td>\n",
       "      <td>0</td>\n",
       "      <td>0</td>\n",
       "    </tr>\n",
       "    <tr>\n",
       "      <th>46a0ddce8f7ed2a8d9bd5edcbb925682</th>\n",
       "      <td>576</td>\n",
       "      <td>22</td>\n",
       "      <td>7</td>\n",
       "      <td>1</td>\n",
       "      <td>4</td>\n",
       "      <td>14</td>\n",
       "      <td>1</td>\n",
       "      <td>0</td>\n",
       "      <td>3</td>\n",
       "      <td>1</td>\n",
       "      <td>...</td>\n",
       "      <td>0</td>\n",
       "      <td>0</td>\n",
       "      <td>0</td>\n",
       "      <td>0</td>\n",
       "      <td>0</td>\n",
       "      <td>0</td>\n",
       "      <td>0</td>\n",
       "      <td>0</td>\n",
       "      <td>1</td>\n",
       "      <td>0</td>\n",
       "    </tr>\n",
       "    <tr>\n",
       "      <th>b1b35ff97723d9b7ade1c9c3cf48f770</th>\n",
       "      <td>453</td>\n",
       "      <td>22</td>\n",
       "      <td>7</td>\n",
       "      <td>1</td>\n",
       "      <td>3</td>\n",
       "      <td>42</td>\n",
       "      <td>0</td>\n",
       "      <td>1</td>\n",
       "      <td>1</td>\n",
       "      <td>0</td>\n",
       "      <td>...</td>\n",
       "      <td>0</td>\n",
       "      <td>0</td>\n",
       "      <td>0</td>\n",
       "      <td>0</td>\n",
       "      <td>0</td>\n",
       "      <td>0</td>\n",
       "      <td>0</td>\n",
       "      <td>0</td>\n",
       "      <td>0</td>\n",
       "      <td>0</td>\n",
       "    </tr>\n",
       "  </tbody>\n",
       "</table>\n",
       "<p>5 rows × 1062 columns</p>\n",
       "</div>"
      ],
      "text/plain": [
       "                                  game_time  game_mode  lobby_type  \\\n",
       "match_id_hash                                                        \n",
       "a400b8f29dece5f4d266f49f1ae2e98a        155         22           7   \n",
       "b9c57c450ce74a2af79c9ce96fac144d        658          4           0   \n",
       "6db558535151ea18ca70a6892197db41         21         23           0   \n",
       "46a0ddce8f7ed2a8d9bd5edcbb925682        576         22           7   \n",
       "b1b35ff97723d9b7ade1c9c3cf48f770        453         22           7   \n",
       "\n",
       "                                  objectives_len  chat_len  r1_hero_id  \\\n",
       "match_id_hash                                                            \n",
       "a400b8f29dece5f4d266f49f1ae2e98a               1        11          11   \n",
       "b9c57c450ce74a2af79c9ce96fac144d               3        10          15   \n",
       "6db558535151ea18ca70a6892197db41               0         0         101   \n",
       "46a0ddce8f7ed2a8d9bd5edcbb925682               1         4          14   \n",
       "b1b35ff97723d9b7ade1c9c3cf48f770               1         3          42   \n",
       "\n",
       "                                  r1_kills  r1_deaths  r1_assists  r1_denies  \\\n",
       "match_id_hash                                                                  \n",
       "a400b8f29dece5f4d266f49f1ae2e98a         0          0           0          0   \n",
       "b9c57c450ce74a2af79c9ce96fac144d         7          2           0          7   \n",
       "6db558535151ea18ca70a6892197db41         0          0           0          0   \n",
       "46a0ddce8f7ed2a8d9bd5edcbb925682         1          0           3          1   \n",
       "b1b35ff97723d9b7ade1c9c3cf48f770         0          1           1          0   \n",
       "\n",
       "                                  ...  d_hero_90  d_hero_91  d_hero_92  \\\n",
       "match_id_hash                     ...                                    \n",
       "a400b8f29dece5f4d266f49f1ae2e98a  ...          0          0          0   \n",
       "b9c57c450ce74a2af79c9ce96fac144d  ...          0          0          1   \n",
       "6db558535151ea18ca70a6892197db41  ...          0          0          0   \n",
       "46a0ddce8f7ed2a8d9bd5edcbb925682  ...          0          0          0   \n",
       "b1b35ff97723d9b7ade1c9c3cf48f770  ...          0          0          0   \n",
       "\n",
       "                                  d_hero_93  d_hero_94  d_hero_95  d_hero_96  \\\n",
       "match_id_hash                                                                  \n",
       "a400b8f29dece5f4d266f49f1ae2e98a          0          0          0          0   \n",
       "b9c57c450ce74a2af79c9ce96fac144d          0          0          0          0   \n",
       "6db558535151ea18ca70a6892197db41          0          0          0          0   \n",
       "46a0ddce8f7ed2a8d9bd5edcbb925682          0          0          0          0   \n",
       "b1b35ff97723d9b7ade1c9c3cf48f770          0          0          0          0   \n",
       "\n",
       "                                  d_hero_97  d_hero_98  d_hero_99  \n",
       "match_id_hash                                                      \n",
       "a400b8f29dece5f4d266f49f1ae2e98a          0          0          0  \n",
       "b9c57c450ce74a2af79c9ce96fac144d          0          0          0  \n",
       "6db558535151ea18ca70a6892197db41          0          0          0  \n",
       "46a0ddce8f7ed2a8d9bd5edcbb925682          0          1          0  \n",
       "b1b35ff97723d9b7ade1c9c3cf48f770          0          0          0  \n",
       "\n",
       "[5 rows x 1062 columns]"
      ]
     },
     "execution_count": 20,
     "metadata": {},
     "output_type": "execute_result"
    }
   ],
   "source": [
    "train.head()"
   ]
  },
  {
   "cell_type": "code",
   "execution_count": 21,
   "metadata": {},
   "outputs": [],
   "source": [
    "train['radiant_win'] = target['radiant_win']"
   ]
  },
  {
   "cell_type": "code",
   "execution_count": 22,
   "metadata": {},
   "outputs": [
    {
     "name": "stdout",
     "output_type": "stream",
     "text": [
      "Fold 0 started at Mon Oct 14 02:00:22 2019\n",
      "Training until validation scores don't improve for 2000 rounds\n",
      "[1000]\ttraining's auc: 0.892575\tvalid_1's auc: 0.836499\n",
      "[2000]\ttraining's auc: 0.938488\tvalid_1's auc: 0.842934\n",
      "[3000]\ttraining's auc: 0.966249\tvalid_1's auc: 0.845429\n",
      "[4000]\ttraining's auc: 0.982846\tvalid_1's auc: 0.846239\n",
      "[5000]\ttraining's auc: 0.992316\tvalid_1's auc: 0.846294\n",
      "[6000]\ttraining's auc: 0.996995\tvalid_1's auc: 0.846293\n",
      "[7000]\ttraining's auc: 0.998988\tvalid_1's auc: 0.846119\n",
      "Early stopping, best iteration is:\n",
      "[5850]\ttraining's auc: 0.996501\tvalid_1's auc: 0.846392\n",
      "Fold 1 started at Mon Oct 14 02:01:19 2019\n",
      "Training until validation scores don't improve for 2000 rounds\n",
      "[1000]\ttraining's auc: 0.894396\tvalid_1's auc: 0.824629\n",
      "[2000]\ttraining's auc: 0.939795\tvalid_1's auc: 0.832208\n",
      "[3000]\ttraining's auc: 0.966998\tvalid_1's auc: 0.83493\n",
      "[4000]\ttraining's auc: 0.983436\tvalid_1's auc: 0.835651\n",
      "[5000]\ttraining's auc: 0.992674\tvalid_1's auc: 0.835963\n",
      "[6000]\ttraining's auc: 0.997131\tvalid_1's auc: 0.835838\n",
      "[7000]\ttraining's auc: 0.999066\tvalid_1's auc: 0.835995\n",
      "[8000]\ttraining's auc: 0.999742\tvalid_1's auc: 0.836203\n",
      "[9000]\ttraining's auc: 0.999941\tvalid_1's auc: 0.836063\n",
      "[10000]\ttraining's auc: 0.999988\tvalid_1's auc: 0.836261\n",
      "[11000]\ttraining's auc: 0.999998\tvalid_1's auc: 0.835943\n",
      "Early stopping, best iteration is:\n",
      "[9852]\ttraining's auc: 0.999985\tvalid_1's auc: 0.836361\n",
      "Fold 2 started at Mon Oct 14 02:02:52 2019\n",
      "Training until validation scores don't improve for 2000 rounds\n",
      "[1000]\ttraining's auc: 0.892898\tvalid_1's auc: 0.840813\n",
      "[2000]\ttraining's auc: 0.938405\tvalid_1's auc: 0.845896\n",
      "[3000]\ttraining's auc: 0.966025\tvalid_1's auc: 0.846595\n",
      "[4000]\ttraining's auc: 0.982822\tvalid_1's auc: 0.846908\n",
      "[5000]\ttraining's auc: 0.992439\tvalid_1's auc: 0.847154\n",
      "[6000]\ttraining's auc: 0.997064\tvalid_1's auc: 0.847446\n",
      "[7000]\ttraining's auc: 0.999021\tvalid_1's auc: 0.847358\n",
      "Early stopping, best iteration is:\n",
      "[5646]\ttraining's auc: 0.995833\tvalid_1's auc: 0.847508\n",
      "Fold 3 started at Mon Oct 14 02:03:57 2019\n",
      "Training until validation scores don't improve for 2000 rounds\n",
      "[1000]\ttraining's auc: 0.892648\tvalid_1's auc: 0.837048\n",
      "[2000]\ttraining's auc: 0.938696\tvalid_1's auc: 0.842725\n",
      "[3000]\ttraining's auc: 0.966402\tvalid_1's auc: 0.844606\n",
      "[4000]\ttraining's auc: 0.983014\tvalid_1's auc: 0.845034\n",
      "[5000]\ttraining's auc: 0.992357\tvalid_1's auc: 0.845287\n",
      "[6000]\ttraining's auc: 0.996994\tvalid_1's auc: 0.845325\n",
      "[7000]\ttraining's auc: 0.998975\tvalid_1's auc: 0.845561\n",
      "[8000]\ttraining's auc: 0.999694\tvalid_1's auc: 0.845365\n",
      "Early stopping, best iteration is:\n",
      "[6582]\ttraining's auc: 0.998394\tvalid_1's auc: 0.845642\n",
      "Fold 4 started at Mon Oct 14 02:05:03 2019\n",
      "Training until validation scores don't improve for 2000 rounds\n",
      "[1000]\ttraining's auc: 0.892868\tvalid_1's auc: 0.835818\n",
      "[2000]\ttraining's auc: 0.938769\tvalid_1's auc: 0.842056\n",
      "[3000]\ttraining's auc: 0.966206\tvalid_1's auc: 0.843628\n",
      "[4000]\ttraining's auc: 0.982804\tvalid_1's auc: 0.843764\n",
      "[5000]\ttraining's auc: 0.992278\tvalid_1's auc: 0.843542\n",
      "Early stopping, best iteration is:\n",
      "[3862]\ttraining's auc: 0.980984\tvalid_1's auc: 0.843841\n",
      "CV mean score: 0.8439, std: 0.0040.\n"
     ]
    },
    {
     "data": {
      "image/png": "[encoded data removed]",
      "text/plain": [
       "<Figure size 1152x720 with 1 Axes>"
      ]
     },
     "metadata": {
      "needs_background": "light"
     },
     "output_type": "display_data"
    }
   ],
   "source": [
    "params = {'boost': 'gbdt',\n",
    "          'feature_fraction': 0.05,\n",
    "          'learning_rate': 0.01,\n",
    "          'max_depth': -1,  \n",
    "          'metric':'auc',\n",
    "          'min_data_in_leaf': 50,\n",
    "          'num_leaves': 32,\n",
    "          'num_threads': -1,\n",
    "          'verbosity': 1,\n",
    "          'objective': 'binary'\n",
    "         }\n",
    "\n",
    "X = train.drop(['radiant_win'], axis=1).reset_index(drop=True)\n",
    "y = target['radiant_win']\n",
    "X_test = test.reset_index(drop=True)\n",
    "\n",
    "oof_lgb, prediction_lgb, scores = train_model(X, X_test, y, params=params, folds=folds, model_type='lgb', plot_feature_importance=True, silent = False)"
   ]
  },
  {
   "cell_type": "code",
   "execution_count": 23,
   "metadata": {},
   "outputs": [
    {
     "data": {
      "text/plain": [
       "array([0.26911904, 0.99513598, 0.98309275, ..., 0.47299334, 0.83108504,\n",
       "       0.04866193])"
      ]
     },
     "execution_count": 23,
     "metadata": {},
     "output_type": "execute_result"
    }
   ],
   "source": [
    "prediction_lgb"
   ]
  },
  {
   "cell_type": "code",
   "execution_count": 24,
   "metadata": {},
   "outputs": [],
   "source": [
    "df_submission = pd.DataFrame({'radiant_win_prob': prediction_lgb}, \n",
    "                                 index=test.index)\n",
    "df_submission.to_csv('Submission6_EF_items_damage_names.csv')"
   ]
  },
  {
   "cell_type": "code",
   "execution_count": 25,
   "metadata": {},
   "outputs": [],
   "source": [
    "# CV mean score: 0.8290, std: 0.0049"
   ]
  },
  {
   "cell_type": "code",
   "execution_count": 26,
   "metadata": {},
   "outputs": [
    {
     "data": {
      "text/html": [
       "<div>\n",
       "<style scoped>\n",
       "    .dataframe tbody tr th:only-of-type {\n",
       "        vertical-align: middle;\n",
       "    }\n",
       "\n",
       "    .dataframe tbody tr th {\n",
       "        vertical-align: top;\n",
       "    }\n",
       "\n",
       "    .dataframe thead th {\n",
       "        text-align: right;\n",
       "    }\n",
       "</style>\n",
       "<table border=\"1\" class=\"dataframe\">\n",
       "  <thead>\n",
       "    <tr style=\"text-align: right;\">\n",
       "      <th></th>\n",
       "      <th>game_time</th>\n",
       "      <th>game_mode</th>\n",
       "      <th>lobby_type</th>\n",
       "      <th>objectives_len</th>\n",
       "      <th>chat_len</th>\n",
       "      <th>r1_hero_id</th>\n",
       "      <th>r1_kills</th>\n",
       "      <th>r1_deaths</th>\n",
       "      <th>r1_assists</th>\n",
       "      <th>r1_denies</th>\n",
       "      <th>...</th>\n",
       "      <th>d_hero_90</th>\n",
       "      <th>d_hero_91</th>\n",
       "      <th>d_hero_92</th>\n",
       "      <th>d_hero_93</th>\n",
       "      <th>d_hero_94</th>\n",
       "      <th>d_hero_95</th>\n",
       "      <th>d_hero_96</th>\n",
       "      <th>d_hero_97</th>\n",
       "      <th>d_hero_98</th>\n",
       "      <th>d_hero_99</th>\n",
       "    </tr>\n",
       "    <tr>\n",
       "      <th>match_id_hash</th>\n",
       "      <th></th>\n",
       "      <th></th>\n",
       "      <th></th>\n",
       "      <th></th>\n",
       "      <th></th>\n",
       "      <th></th>\n",
       "      <th></th>\n",
       "      <th></th>\n",
       "      <th></th>\n",
       "      <th></th>\n",
       "      <th></th>\n",
       "      <th></th>\n",
       "      <th></th>\n",
       "      <th></th>\n",
       "      <th></th>\n",
       "      <th></th>\n",
       "      <th></th>\n",
       "      <th></th>\n",
       "      <th></th>\n",
       "      <th></th>\n",
       "      <th></th>\n",
       "    </tr>\n",
       "  </thead>\n",
       "  <tbody>\n",
       "    <tr>\n",
       "      <th>30cc2d778dca82f2edb568ce9b585caa</th>\n",
       "      <td>23</td>\n",
       "      <td>4</td>\n",
       "      <td>0</td>\n",
       "      <td>0</td>\n",
       "      <td>0</td>\n",
       "      <td>79</td>\n",
       "      <td>0</td>\n",
       "      <td>0</td>\n",
       "      <td>0</td>\n",
       "      <td>0</td>\n",
       "      <td>...</td>\n",
       "      <td>0</td>\n",
       "      <td>1</td>\n",
       "      <td>0</td>\n",
       "      <td>0</td>\n",
       "      <td>0</td>\n",
       "      <td>0</td>\n",
       "      <td>0</td>\n",
       "      <td>0</td>\n",
       "      <td>0</td>\n",
       "      <td>0</td>\n",
       "    </tr>\n",
       "    <tr>\n",
       "      <th>70e5ba30f367cea48793b9003fab9d38</th>\n",
       "      <td>1044</td>\n",
       "      <td>22</td>\n",
       "      <td>7</td>\n",
       "      <td>12</td>\n",
       "      <td>6</td>\n",
       "      <td>23</td>\n",
       "      <td>3</td>\n",
       "      <td>5</td>\n",
       "      <td>7</td>\n",
       "      <td>1</td>\n",
       "      <td>...</td>\n",
       "      <td>0</td>\n",
       "      <td>0</td>\n",
       "      <td>0</td>\n",
       "      <td>0</td>\n",
       "      <td>0</td>\n",
       "      <td>1</td>\n",
       "      <td>0</td>\n",
       "      <td>0</td>\n",
       "      <td>0</td>\n",
       "      <td>1</td>\n",
       "    </tr>\n",
       "    <tr>\n",
       "      <th>4d9ef74d3a2025d79e9423105fd73d41</th>\n",
       "      <td>1091</td>\n",
       "      <td>22</td>\n",
       "      <td>7</td>\n",
       "      <td>6</td>\n",
       "      <td>1</td>\n",
       "      <td>64</td>\n",
       "      <td>3</td>\n",
       "      <td>1</td>\n",
       "      <td>7</td>\n",
       "      <td>1</td>\n",
       "      <td>...</td>\n",
       "      <td>0</td>\n",
       "      <td>0</td>\n",
       "      <td>0</td>\n",
       "      <td>0</td>\n",
       "      <td>0</td>\n",
       "      <td>0</td>\n",
       "      <td>0</td>\n",
       "      <td>0</td>\n",
       "      <td>0</td>\n",
       "      <td>0</td>\n",
       "    </tr>\n",
       "    <tr>\n",
       "      <th>2bb79e0c1eaac1608e5a09c8e0c6a555</th>\n",
       "      <td>623</td>\n",
       "      <td>22</td>\n",
       "      <td>7</td>\n",
       "      <td>1</td>\n",
       "      <td>0</td>\n",
       "      <td>41</td>\n",
       "      <td>0</td>\n",
       "      <td>0</td>\n",
       "      <td>1</td>\n",
       "      <td>2</td>\n",
       "      <td>...</td>\n",
       "      <td>0</td>\n",
       "      <td>0</td>\n",
       "      <td>0</td>\n",
       "      <td>0</td>\n",
       "      <td>0</td>\n",
       "      <td>0</td>\n",
       "      <td>0</td>\n",
       "      <td>1</td>\n",
       "      <td>1</td>\n",
       "      <td>0</td>\n",
       "    </tr>\n",
       "    <tr>\n",
       "      <th>bec17f099b01d67edc82dfb5ce735a43</th>\n",
       "      <td>1538</td>\n",
       "      <td>22</td>\n",
       "      <td>7</td>\n",
       "      <td>7</td>\n",
       "      <td>11</td>\n",
       "      <td>40</td>\n",
       "      <td>2</td>\n",
       "      <td>7</td>\n",
       "      <td>12</td>\n",
       "      <td>0</td>\n",
       "      <td>...</td>\n",
       "      <td>0</td>\n",
       "      <td>0</td>\n",
       "      <td>0</td>\n",
       "      <td>0</td>\n",
       "      <td>0</td>\n",
       "      <td>0</td>\n",
       "      <td>0</td>\n",
       "      <td>0</td>\n",
       "      <td>0</td>\n",
       "      <td>0</td>\n",
       "    </tr>\n",
       "  </tbody>\n",
       "</table>\n",
       "<p>5 rows × 1062 columns</p>\n",
       "</div>"
      ],
      "text/plain": [
       "                                  game_time  game_mode  lobby_type  \\\n",
       "match_id_hash                                                        \n",
       "30cc2d778dca82f2edb568ce9b585caa         23          4           0   \n",
       "70e5ba30f367cea48793b9003fab9d38       1044         22           7   \n",
       "4d9ef74d3a2025d79e9423105fd73d41       1091         22           7   \n",
       "2bb79e0c1eaac1608e5a09c8e0c6a555        623         22           7   \n",
       "bec17f099b01d67edc82dfb5ce735a43       1538         22           7   \n",
       "\n",
       "                                  objectives_len  chat_len  r1_hero_id  \\\n",
       "match_id_hash                                                            \n",
       "30cc2d778dca82f2edb568ce9b585caa               0         0          79   \n",
       "70e5ba30f367cea48793b9003fab9d38              12         6          23   \n",
       "4d9ef74d3a2025d79e9423105fd73d41               6         1          64   \n",
       "2bb79e0c1eaac1608e5a09c8e0c6a555               1         0          41   \n",
       "bec17f099b01d67edc82dfb5ce735a43               7        11          40   \n",
       "\n",
       "                                  r1_kills  r1_deaths  r1_assists  r1_denies  \\\n",
       "match_id_hash                                                                  \n",
       "30cc2d778dca82f2edb568ce9b585caa         0          0           0          0   \n",
       "70e5ba30f367cea48793b9003fab9d38         3          5           7          1   \n",
       "4d9ef74d3a2025d79e9423105fd73d41         3          1           7          1   \n",
       "2bb79e0c1eaac1608e5a09c8e0c6a555         0          0           1          2   \n",
       "bec17f099b01d67edc82dfb5ce735a43         2          7          12          0   \n",
       "\n",
       "                                  ...  d_hero_90  d_hero_91  d_hero_92  \\\n",
       "match_id_hash                     ...                                    \n",
       "30cc2d778dca82f2edb568ce9b585caa  ...          0          1          0   \n",
       "70e5ba30f367cea48793b9003fab9d38  ...          0          0          0   \n",
       "4d9ef74d3a2025d79e9423105fd73d41  ...          0          0          0   \n",
       "2bb79e0c1eaac1608e5a09c8e0c6a555  ...          0          0          0   \n",
       "bec17f099b01d67edc82dfb5ce735a43  ...          0          0          0   \n",
       "\n",
       "                                  d_hero_93  d_hero_94  d_hero_95  d_hero_96  \\\n",
       "match_id_hash                                                                  \n",
       "30cc2d778dca82f2edb568ce9b585caa          0          0          0          0   \n",
       "70e5ba30f367cea48793b9003fab9d38          0          0          1          0   \n",
       "4d9ef74d3a2025d79e9423105fd73d41          0          0          0          0   \n",
       "2bb79e0c1eaac1608e5a09c8e0c6a555          0          0          0          0   \n",
       "bec17f099b01d67edc82dfb5ce735a43          0          0          0          0   \n",
       "\n",
       "                                  d_hero_97  d_hero_98  d_hero_99  \n",
       "match_id_hash                                                      \n",
       "30cc2d778dca82f2edb568ce9b585caa          0          0          0  \n",
       "70e5ba30f367cea48793b9003fab9d38          0          0          1  \n",
       "4d9ef74d3a2025d79e9423105fd73d41          0          0          0  \n",
       "2bb79e0c1eaac1608e5a09c8e0c6a555          1          1          0  \n",
       "bec17f099b01d67edc82dfb5ce735a43          0          0          0  \n",
       "\n",
       "[5 rows x 1062 columns]"
      ]
     },
     "execution_count": 26,
     "metadata": {},
     "output_type": "execute_result"
    }
   ],
   "source": [
    "test.head()"
   ]
  },
  {
   "cell_type": "code",
   "execution_count": 27,
   "metadata": {},
   "outputs": [
    {
     "data": {
      "image/png": "[encoded data removed]",
      "text/plain": [
       "<Figure size 432x288 with 1 Axes>"
      ]
     },
     "metadata": {
      "needs_background": "light"
     },
     "output_type": "display_data"
    }
   ],
   "source": [
    "plt.hist(prediction_lgb, bins=40);\n",
    "plt.title('Distribution of predictions');"
   ]
  },
  {
   "cell_type": "code",
   "execution_count": null,
   "metadata": {},
   "outputs": [],
   "source": []
  },
  {
   "cell_type": "code",
   "execution_count": null,
   "metadata": {},
   "outputs": [],
   "source": []
  }
 ],
 "metadata": {
  "kernelspec": {
   "display_name": "Python 3",
   "language": "python",
   "name": "python3"
  },
  "language_info": {
   "codemirror_mode": {
    "name": "ipython",
    "version": 3
   },
   "file_extension": ".py",
   "mimetype": "text/x-python",
   "name": "python",
   "nbconvert_exporter": "python",
   "pygments_lexer": "ipython3",
   "version": "3.7.3"
  }
 },
 "nbformat": 4,
 "nbformat_minor": 2
}
