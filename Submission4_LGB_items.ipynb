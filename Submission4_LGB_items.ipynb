{
 "cells": [
  {
   "cell_type": "code",
   "execution_count": 1,
   "metadata": {},
   "outputs": [],
   "source": [
    "# LB Score = 0.83793\n",
    "\n",
    "# version 1.3\n",
    "# Added Total damage feature"
   ]
  },
  {
   "cell_type": "code",
   "execution_count": 2,
   "metadata": {},
   "outputs": [],
   "source": [
    "from scipy.sparse import hstack\n",
    "import time\n",
    "import lightgbm as lgb\n",
    "import pandas as pd\n",
    "import numpy as np\n",
    "from sklearn.linear_model import LogisticRegression\n",
    "from sklearn.ensemble import RandomForestClassifier\n",
    "import seaborn as sns\n",
    "from matplotlib import pyplot as plt\n",
    "from sklearn.metrics import roc_auc_score\n",
    "from sklearn.model_selection import TimeSeriesSplit, cross_val_score, GridSearchCV, StratifiedKFold, KFold\n",
    "from sklearn.preprocessing import StandardScaler\n",
    "import ujson as json\n",
    "from tqdm import tqdm_notebook"
   ]
  },
  {
   "cell_type": "code",
   "execution_count": 3,
   "metadata": {},
   "outputs": [],
   "source": [
    "def prepare_submit(model, x_test, file_name = 'submission'):\n",
    "    y_test_pred= model.predict_proba(X_test)[:, 1]\n",
    "    df_submission = pd.DataFrame({'radiant_win_prob': y_test_pred}, \n",
    "                                 index=df_test_features.index)\n",
    "    df_submission.to_csv(file_name)"
   ]
  },
  {
   "cell_type": "code",
   "execution_count": 4,
   "metadata": {},
   "outputs": [],
   "source": [
    "def train_model(X, X_test, y, params, folds, model_type='lgb', plot_feature_importance=False, averaging='usual', model=None, silent = False):\n",
    "    oof = np.zeros(len(X))\n",
    "    prediction = np.zeros(len(X_test))\n",
    "    scores = []\n",
    "    feature_importance = pd.DataFrame()\n",
    "    for fold_n, (train_index, valid_index) in enumerate(folds.split(X, y)):\n",
    "        if (not silent) : print('Fold', fold_n, 'started at', time.ctime())\n",
    "        X_train, X_valid = X.loc[train_index], X.loc[valid_index]\n",
    "        y_train, y_valid = y[train_index], y[valid_index]\n",
    "        \n",
    "        if model_type == 'lgb':\n",
    "            train_data = lgb.Dataset(X_train, label=y_train)\n",
    "            valid_data = lgb.Dataset(X_valid, label=y_valid)\n",
    "            \n",
    "            model = lgb.train(params,\n",
    "                    train_data,\n",
    "                    num_boost_round=20000,\n",
    "                    valid_sets = [train_data, valid_data],\n",
    "                    verbose_eval=1000,\n",
    "                    early_stopping_rounds = 2000)\n",
    "            \n",
    "            y_pred_valid = model.predict(X_valid)\n",
    "            y_pred = model.predict(X_test, num_iteration=model.best_iteration)\n",
    "            \n",
    "        \n",
    "            \n",
    "        oof[valid_index] = y_pred_valid.reshape(-1,)\n",
    "        scores.append(roc_auc_score(y_valid, y_pred_valid))\n",
    "\n",
    "        if averaging == 'usual':\n",
    "            prediction += y_pred\n",
    "        elif averaging == 'rank':\n",
    "            prediction += pd.Series(y_pred).rank().values  \n",
    "        \n",
    "        if model_type == 'lgb':\n",
    "            # feature importance\n",
    "            fold_importance = pd.DataFrame()\n",
    "            fold_importance[\"feature\"] = X.columns\n",
    "            fold_importance[\"importance\"] = model.feature_importance()\n",
    "            fold_importance[\"fold\"] = fold_n + 1\n",
    "            feature_importance = pd.concat([feature_importance, fold_importance], axis=0)\n",
    "\n",
    "    prediction /= n_fold\n",
    "    \n",
    "    print('CV mean score: {0:.4f}, std: {1:.4f}.'.format(np.mean(scores), np.std(scores)))\n",
    "    \n",
    "    if model_type == 'lgb':\n",
    "        feature_importance[\"importance\"] /= n_fold\n",
    "        if plot_feature_importance:\n",
    "            cols = feature_importance[[\"feature\", \"importance\"]].groupby(\"feature\").mean().sort_values(\n",
    "                by=\"importance\", ascending=False)[:20].index\n",
    "\n",
    "            best_features = feature_importance.loc[feature_importance.feature.isin(cols)]\n",
    "\n",
    "            plt.figure(figsize=(16, 10));\n",
    "            sns.barplot(x=\"importance\", y=\"feature\", data=best_features.sort_values(by=\"importance\", ascending=False));\n",
    "            plt.title('LGB Features (avg over folds)');\n",
    "        \n",
    "            return oof, prediction, feature_importance\n",
    "        return oof, prediction, scores\n",
    "    \n",
    "    else:\n",
    "        return oof, prediction, scores"
   ]
  },
  {
   "cell_type": "code",
   "execution_count": 5,
   "metadata": {},
   "outputs": [],
   "source": [
    "train = pd.read_csv('../data/train_features.csv', index_col='match_id_hash')\n",
    "target = pd.read_csv('../data/train_targets.csv', index_col='match_id_hash')\n",
    "test = pd.read_csv('../data/test_features.csv', index_col='match_id_hash')"
   ]
  },
  {
   "cell_type": "code",
   "execution_count": 6,
   "metadata": {},
   "outputs": [],
   "source": [
    "split_index = train.shape[0]"
   ]
  },
  {
   "cell_type": "code",
   "execution_count": 7,
   "metadata": {},
   "outputs": [],
   "source": [
    "df = pd.concat([train, test], sort=False)"
   ]
  },
  {
   "cell_type": "code",
   "execution_count": null,
   "metadata": {},
   "outputs": [],
   "source": []
  },
  {
   "cell_type": "code",
   "execution_count": null,
   "metadata": {},
   "outputs": [],
   "source": []
  },
  {
   "cell_type": "code",
   "execution_count": 8,
   "metadata": {},
   "outputs": [
    {
     "data": {
      "text/plain": [
       "(49675, 245)"
      ]
     },
     "execution_count": 8,
     "metadata": {},
     "output_type": "execute_result"
    }
   ],
   "source": [
    "df.shape"
   ]
  },
  {
   "cell_type": "code",
   "execution_count": 9,
   "metadata": {},
   "outputs": [],
   "source": [
    "new_features = pd.DataFrame()"
   ]
  },
  {
   "cell_type": "code",
   "execution_count": 10,
   "metadata": {},
   "outputs": [],
   "source": [
    "r_kills_columns = [col for col in df if col.endswith('kills')][:5]\n",
    "d_kills_columns = [col for col in df if col.endswith('kills')][5:]\n",
    "new_features['r_kills_mean'] = df[r_kills_columns].mean(axis = 1)\n",
    "new_features['r_kills_std'] = df[r_kills_columns].std(axis = 1)\n",
    "new_features['r_kills_total'] = df[r_kills_columns].sum(axis = 1)\n",
    "new_features['d_kills_mean'] = df[d_kills_columns].mean(axis = 1)\n",
    "new_features['d_kills_std'] = df[d_kills_columns].std(axis = 1)\n",
    "new_features['d_kills_total'] = df[d_kills_columns].sum(axis = 1)\n",
    "new_features['kills_diff'] = new_features['d_kills_total'] - new_features['r_kills_total']"
   ]
  },
  {
   "cell_type": "code",
   "execution_count": 11,
   "metadata": {},
   "outputs": [],
   "source": [
    "r_gold_columns = [col for col in df if col.endswith('gold')][:5]\n",
    "d_gold_columns = [col for col in df if col.endswith('gold')][5:]\n",
    "new_features['r_gold_mean'] = df[r_gold_columns].mean(axis = 1)\n",
    "new_features['r_gold_std'] = df[r_gold_columns].std(axis = 1)\n",
    "new_features['r_gold_total'] = df[r_gold_columns].sum(axis = 1)\n",
    "new_features['d_gold_mean'] = df[d_gold_columns].mean(axis = 1)\n",
    "new_features['d_gold_std'] = df[d_gold_columns].std(axis = 1)\n",
    "new_features['d_gold_total'] = df[d_gold_columns].sum(axis = 1)\n",
    "#new_features['gold_prop'] = new_features['d_gold_total'] / new_features['r_gold_total']\n",
    "new_features['gold_prop1'] = new_features['r_gold_total'] / new_features['d_gold_total']"
   ]
  },
  {
   "cell_type": "code",
   "execution_count": 12,
   "metadata": {},
   "outputs": [],
   "source": [
    "r_stuns_columns = [col for col in df if col.endswith('stuns')][:5]\n",
    "d_stuns_columns = [col for col in df if col.endswith('stuns')][5:]\n",
    "new_features['r_stuns_total'] = df[r_stuns_columns].sum(axis = 1) + 1\n",
    "new_features['d_stuns_total'] = df[d_stuns_columns].sum(axis = 1) + 1"
   ]
  },
  {
   "cell_type": "code",
   "execution_count": 13,
   "metadata": {},
   "outputs": [],
   "source": [
    "r_max_health_columns = [col for col in df if col.endswith('max_health')][:5]\n",
    "d_max_health_columns = [col for col in df if col.endswith('max_health')][5:]\n",
    "new_features['d_max_health_total'] = df[r_max_health_columns].sum(axis = 1)\n",
    "new_features['r_max_health_total'] = df[d_max_health_columns].sum(axis = 1)\n",
    "new_features['max_health_prop'] = new_features['r_max_health_total'] / new_features['d_max_health_total']"
   ]
  },
  {
   "cell_type": "code",
   "execution_count": 14,
   "metadata": {},
   "outputs": [],
   "source": [
    "r_max_mana_columns = [col for col in df if col.endswith('max_mana')][:5]\n",
    "d_max_mana_columns = [col for col in df if col.endswith('max_mana')][5:]\n",
    "new_features['d_max_mana_total'] = df[r_max_mana_columns].sum(axis = 1)\n",
    "new_features['r_max_mana_total'] = df[d_max_mana_columns].sum(axis = 1)\n",
    "new_features['max_mana_prop'] = new_features['r_max_mana_total'] / new_features['d_max_mana_total']"
   ]
  },
  {
   "cell_type": "code",
   "execution_count": 15,
   "metadata": {},
   "outputs": [],
   "source": [
    "new_features['d_xp_total'] = df[[col for col in df if col.endswith('xp')][:5]].sum(axis = 1) + 1\n",
    "new_features['r_xp_total'] = df[[col for col in df if col.endswith('xp')][5:]].sum(axis = 1) + 1"
   ]
  },
  {
   "cell_type": "code",
   "execution_count": 16,
   "metadata": {},
   "outputs": [],
   "source": [
    "new_features['d_xp_std'] = df[[col for col in df if col.endswith('xp')][:5]].std(axis = 1)\n",
    "new_features['r_xp_std'] = df[[col for col in df if col.endswith('xp')][5:]].std(axis = 1)"
   ]
  },
  {
   "cell_type": "code",
   "execution_count": 17,
   "metadata": {},
   "outputs": [],
   "source": [
    "#new_features['total_xp_ratio'] = new_features['d_xp_total'] / new_features['r_xp_total']\n",
    "new_features['total_xp_ratio1'] = new_features['r_xp_total'] / new_features['d_xp_total']"
   ]
  },
  {
   "cell_type": "code",
   "execution_count": 18,
   "metadata": {},
   "outputs": [],
   "source": [
    "new_features['d_obs_total'] = df[[col for col in df if col.endswith('obs_placed')][:5]].sum(axis = 1)\n",
    "new_features['r_obs_total'] = df[[col for col in df if col.endswith('obs_placed')][5:]].sum(axis = 1)\n",
    "#new_features['obs_prop'] = new_features['d_obs_total']/ new_features['r_obs_total']"
   ]
  },
  {
   "cell_type": "code",
   "execution_count": 19,
   "metadata": {},
   "outputs": [],
   "source": [
    "r_towers_killed_columns = [col for col in df if col.endswith('towers_killed')][:5]\n",
    "d_towers_killed_columns = [col for col in df if col.endswith('towers_killed')][5:]\n",
    "new_features['d_towers'] = df[d_towers_killed_columns].sum(axis = 1) + 1\n",
    "new_features['r_towers'] = df[r_towers_killed_columns].sum(axis = 1) + 1\n",
    "new_features['towers_prop'] = new_features['d_towers'] / new_features['r_towers']"
   ]
  },
  {
   "cell_type": "code",
   "execution_count": 20,
   "metadata": {},
   "outputs": [],
   "source": [
    "r_level_columns = [col for col in df if col.endswith('level')][:5]\n",
    "d_level_columns = [col for col in df if col.endswith('level')][5:]\n",
    "new_features['r_max_level'] = df[r_level_columns].max(axis = 1)\n",
    "new_features['d_max_level'] = df[d_level_columns].max(axis = 1)\n",
    "new_features['max_level_prop'] = new_features['d_max_level'] / new_features['r_max_level']"
   ]
  },
  {
   "cell_type": "code",
   "execution_count": 21,
   "metadata": {},
   "outputs": [],
   "source": [
    "new_features['r_mean_level'] = df[r_level_columns].mean(axis = 1)\n",
    "new_features['d_mean_level'] = df[d_level_columns].mean(axis = 1)\n",
    "#new_features['mean_level_prop'] = new_features['r_mean_level'] / new_features['d_mean_level']"
   ]
  },
  {
   "cell_type": "code",
   "execution_count": 22,
   "metadata": {},
   "outputs": [],
   "source": [
    "new_features['r_min_level'] = df[r_level_columns].min(axis = 1)\n",
    "new_features['d_min_level'] = df[d_level_columns].min(axis = 1)\n",
    "#new_features['min_level_prop'] = new_features['r_min_level'] / new_features['d_min_level']"
   ]
  },
  {
   "cell_type": "code",
   "execution_count": 23,
   "metadata": {},
   "outputs": [],
   "source": [
    "r_roshans_killes_columns = [col for col in df if col.endswith('roshans_killed')][:5]\n",
    "d_roshans_killes_columns = [col for col in df if col.endswith('roshans_killed')][5:]\n",
    "new_features['r_roshans'] = df[r_roshans_killes_columns].sum(axis = 1) + 1\n",
    "new_features['d_roshans'] = df[d_roshans_killes_columns].sum(axis = 1) + 1\n",
    "#new_features['roshans_prop'] = new_features['r_roshans'] / new_features['d_roshans']"
   ]
  },
  {
   "cell_type": "code",
   "execution_count": 24,
   "metadata": {},
   "outputs": [],
   "source": [
    "r_x_columns = [col for col in df if col.endswith('x')][:5]\n",
    "d_x_columns = [col for col in df if col.endswith('x')][5:]"
   ]
  },
  {
   "cell_type": "code",
   "execution_count": 25,
   "metadata": {},
   "outputs": [],
   "source": [
    "new_features['r_x_mean'] = df[r_x_columns].mean(axis = 1)\n",
    "new_features['d_x_mean'] = df[d_x_columns].mean(axis = 1)\n",
    "new_features['r_x_max'] = df[r_x_columns].max(axis = 1)\n",
    "new_features['d_x_max'] = df[d_x_columns].max(axis = 1)\n",
    "new_features['r_x_min'] = df[r_x_columns].min(axis = 1)\n",
    "new_features['d_x_min'] = df[d_x_columns].min(axis = 1)"
   ]
  },
  {
   "cell_type": "code",
   "execution_count": 26,
   "metadata": {},
   "outputs": [],
   "source": [
    "r_y_columns = [col for col in df if col.endswith('y')][:5]\n",
    "d_y_columns = [col for col in df if col.endswith('y')][5:]"
   ]
  },
  {
   "cell_type": "code",
   "execution_count": 27,
   "metadata": {},
   "outputs": [],
   "source": [
    "new_features['r_y_mean'] = df[r_y_columns].mean(axis = 1)\n",
    "new_features['d_y_mean'] = df[d_y_columns].mean(axis = 1)"
   ]
  },
  {
   "cell_type": "code",
   "execution_count": 28,
   "metadata": {},
   "outputs": [],
   "source": [
    "new_features['r_y_max'] = df[r_y_columns].max(axis = 1)\n",
    "new_features['d_y_max'] = df[d_y_columns].max(axis = 1)\n",
    "new_features['r_y_min'] = df[r_y_columns].min(axis = 1)\n",
    "new_features['d_y_min'] = df[d_y_columns].min(axis = 1)"
   ]
  },
  {
   "cell_type": "code",
   "execution_count": 29,
   "metadata": {},
   "outputs": [],
   "source": [
    "# coordinates of radiant start point\n",
    "r_x_min = df[['r1_x', 'r2_x','r3_x','r4_x','r5_x']].min(axis = 1)\n",
    "r_y_min = df[['r1_y', 'r2_y','r3_y','r4_y','r5_y']].min(axis = 1)"
   ]
  },
  {
   "cell_type": "code",
   "execution_count": 30,
   "metadata": {},
   "outputs": [],
   "source": [
    "r_x_max = df[['r1_x', 'r2_x','r3_x','r4_x','r5_x']].max(axis = 1)\n",
    "r_y_max = df[['r1_y', 'r2_y','r3_y','r4_y','r5_y']].max(axis = 1)"
   ]
  },
  {
   "cell_type": "code",
   "execution_count": 31,
   "metadata": {},
   "outputs": [],
   "source": [
    "new_features['r1_dist'] = np.sqrt((df['r1_y'] - r_y_min)**2 + (df['r1_x'] - r_x_min)**2)\n",
    "new_features['r2_dist'] = np.sqrt((df['r2_y'] - r_y_min)**2 + (df['r2_x'] - r_x_min)**2)\n",
    "new_features['r3_dist'] = np.sqrt((df['r3_y'] - r_y_min)**2 + (df['r3_x'] - r_x_min)**2)\n",
    "new_features['r4_dist'] = np.sqrt((df['r4_y'] - r_y_min)**2 + (df['r4_x'] - r_x_min)**2)\n",
    "new_features['r5_dist'] = np.sqrt((df['r5_y'] - r_y_min)**2 + (df['r5_x'] - r_x_min)**2)"
   ]
  },
  {
   "cell_type": "code",
   "execution_count": 32,
   "metadata": {},
   "outputs": [],
   "source": [
    "r_avg_dist = new_features[['r1_dist', 'r2_dist', 'r3_dist', 'r4_dist', 'r5_dist']].mean(axis = 1)"
   ]
  },
  {
   "cell_type": "code",
   "execution_count": 33,
   "metadata": {},
   "outputs": [],
   "source": [
    "new_features['d1_dist'] = np.sqrt((df['d1_y'] - r_y_max)**2 + (df['d1_x'] - r_x_max)**2)\n",
    "new_features['d2_dist'] = np.sqrt((df['d2_y'] - r_y_max)**2 + (df['d2_x'] - r_x_max)**2)\n",
    "new_features['d3_dist'] = np.sqrt((df['d3_y'] - r_y_max)**2 + (df['d3_x'] - r_x_max)**2)\n",
    "new_features['d4_dist'] = np.sqrt((df['d4_y'] - r_y_max)**2 + (df['d4_x'] - r_x_max)**2)\n",
    "new_features['d5_dist'] = np.sqrt((df['d5_y'] - r_y_max)**2 + (df['d5_x'] - r_x_max)**2)"
   ]
  },
  {
   "cell_type": "code",
   "execution_count": 34,
   "metadata": {},
   "outputs": [],
   "source": [
    "d_avg_dist = new_features[['d1_dist', 'd2_dist', 'd3_dist', 'd4_dist', 'd5_dist']].mean(axis = 1)"
   ]
  },
  {
   "cell_type": "code",
   "execution_count": 35,
   "metadata": {},
   "outputs": [],
   "source": [
    "new_features['dist_prop'] =  d_avg_dist / r_avg_dist"
   ]
  },
  {
   "cell_type": "code",
   "execution_count": 36,
   "metadata": {},
   "outputs": [],
   "source": [
    "#r_runes = df[[col for col in df if col.endswith('rune_pickups')][:5]].sum(axis = 1) + 1\n",
    "#d_runes = df[[col for col in df if col.endswith('rune_pickups')][5:]].sum(axis = 1) + 1\n",
    "#new_features['runes_prop'] = r_runes / d_runes"
   ]
  },
  {
   "cell_type": "code",
   "execution_count": null,
   "metadata": {},
   "outputs": [],
   "source": []
  },
  {
   "cell_type": "code",
   "execution_count": null,
   "metadata": {},
   "outputs": [],
   "source": []
  },
  {
   "cell_type": "code",
   "execution_count": 37,
   "metadata": {},
   "outputs": [
    {
     "data": {
      "text/plain": [
       "(49675, 245)"
      ]
     },
     "execution_count": 37,
     "metadata": {},
     "output_type": "execute_result"
    }
   ],
   "source": [
    "df.shape"
   ]
  },
  {
   "cell_type": "code",
   "execution_count": 38,
   "metadata": {},
   "outputs": [],
   "source": [
    "#roshan_cols = [col for col in df if col.endswith('roshans_killed')]"
   ]
  },
  {
   "cell_type": "code",
   "execution_count": 39,
   "metadata": {},
   "outputs": [],
   "source": [
    "#df = df.drop(roshan_cols, axis = 1, inplace = True)"
   ]
  },
  {
   "cell_type": "code",
   "execution_count": 40,
   "metadata": {},
   "outputs": [],
   "source": [
    "df = pd.concat([df, new_features], axis = 1)"
   ]
  },
  {
   "cell_type": "code",
   "execution_count": 41,
   "metadata": {},
   "outputs": [
    {
     "data": {
      "text/plain": [
       "(49675, 309)"
      ]
     },
     "execution_count": 41,
     "metadata": {},
     "output_type": "execute_result"
    }
   ],
   "source": [
    "df.shape"
   ]
  },
  {
   "cell_type": "code",
   "execution_count": 42,
   "metadata": {},
   "outputs": [
    {
     "data": {
      "text/html": [
       "<div>\n",
       "<style scoped>\n",
       "    .dataframe tbody tr th:only-of-type {\n",
       "        vertical-align: middle;\n",
       "    }\n",
       "\n",
       "    .dataframe tbody tr th {\n",
       "        vertical-align: top;\n",
       "    }\n",
       "\n",
       "    .dataframe thead th {\n",
       "        text-align: right;\n",
       "    }\n",
       "</style>\n",
       "<table border=\"1\" class=\"dataframe\">\n",
       "  <thead>\n",
       "    <tr style=\"text-align: right;\">\n",
       "      <th></th>\n",
       "      <th>game_time</th>\n",
       "      <th>game_mode</th>\n",
       "      <th>lobby_type</th>\n",
       "      <th>objectives_len</th>\n",
       "      <th>chat_len</th>\n",
       "      <th>r1_hero_id</th>\n",
       "      <th>r1_kills</th>\n",
       "      <th>r1_deaths</th>\n",
       "      <th>r1_assists</th>\n",
       "      <th>r1_denies</th>\n",
       "      <th>...</th>\n",
       "      <th>r2_dist</th>\n",
       "      <th>r3_dist</th>\n",
       "      <th>r4_dist</th>\n",
       "      <th>r5_dist</th>\n",
       "      <th>d1_dist</th>\n",
       "      <th>d2_dist</th>\n",
       "      <th>d3_dist</th>\n",
       "      <th>d4_dist</th>\n",
       "      <th>d5_dist</th>\n",
       "      <th>dist_prop</th>\n",
       "    </tr>\n",
       "    <tr>\n",
       "      <th>match_id_hash</th>\n",
       "      <th></th>\n",
       "      <th></th>\n",
       "      <th></th>\n",
       "      <th></th>\n",
       "      <th></th>\n",
       "      <th></th>\n",
       "      <th></th>\n",
       "      <th></th>\n",
       "      <th></th>\n",
       "      <th></th>\n",
       "      <th></th>\n",
       "      <th></th>\n",
       "      <th></th>\n",
       "      <th></th>\n",
       "      <th></th>\n",
       "      <th></th>\n",
       "      <th></th>\n",
       "      <th></th>\n",
       "      <th></th>\n",
       "      <th></th>\n",
       "      <th></th>\n",
       "    </tr>\n",
       "  </thead>\n",
       "  <tbody>\n",
       "    <tr>\n",
       "      <th>a400b8f29dece5f4d266f49f1ae2e98a</th>\n",
       "      <td>155</td>\n",
       "      <td>22</td>\n",
       "      <td>7</td>\n",
       "      <td>1</td>\n",
       "      <td>11</td>\n",
       "      <td>11</td>\n",
       "      <td>0</td>\n",
       "      <td>0</td>\n",
       "      <td>0</td>\n",
       "      <td>0</td>\n",
       "      <td>...</td>\n",
       "      <td>67.201190</td>\n",
       "      <td>70.000000</td>\n",
       "      <td>100.000000</td>\n",
       "      <td>51.923020</td>\n",
       "      <td>89.106678</td>\n",
       "      <td>66.121101</td>\n",
       "      <td>72.691127</td>\n",
       "      <td>80.224684</td>\n",
       "      <td>50.477718</td>\n",
       "      <td>1.031895</td>\n",
       "    </tr>\n",
       "    <tr>\n",
       "      <th>b9c57c450ce74a2af79c9ce96fac144d</th>\n",
       "      <td>658</td>\n",
       "      <td>4</td>\n",
       "      <td>0</td>\n",
       "      <td>3</td>\n",
       "      <td>10</td>\n",
       "      <td>15</td>\n",
       "      <td>7</td>\n",
       "      <td>2</td>\n",
       "      <td>0</td>\n",
       "      <td>7</td>\n",
       "      <td>...</td>\n",
       "      <td>88.022724</td>\n",
       "      <td>104.995238</td>\n",
       "      <td>104.804580</td>\n",
       "      <td>101.862653</td>\n",
       "      <td>68.117545</td>\n",
       "      <td>68.000000</td>\n",
       "      <td>38.832976</td>\n",
       "      <td>40.000000</td>\n",
       "      <td>26.000000</td>\n",
       "      <td>0.602851</td>\n",
       "    </tr>\n",
       "    <tr>\n",
       "      <th>6db558535151ea18ca70a6892197db41</th>\n",
       "      <td>21</td>\n",
       "      <td>23</td>\n",
       "      <td>0</td>\n",
       "      <td>0</td>\n",
       "      <td>0</td>\n",
       "      <td>101</td>\n",
       "      <td>0</td>\n",
       "      <td>0</td>\n",
       "      <td>0</td>\n",
       "      <td>0</td>\n",
       "      <td>...</td>\n",
       "      <td>82.219219</td>\n",
       "      <td>66.000000</td>\n",
       "      <td>72.000000</td>\n",
       "      <td>64.000000</td>\n",
       "      <td>41.617304</td>\n",
       "      <td>63.529521</td>\n",
       "      <td>38.832976</td>\n",
       "      <td>39.446166</td>\n",
       "      <td>18.973666</td>\n",
       "      <td>0.593917</td>\n",
       "    </tr>\n",
       "    <tr>\n",
       "      <th>46a0ddce8f7ed2a8d9bd5edcbb925682</th>\n",
       "      <td>576</td>\n",
       "      <td>22</td>\n",
       "      <td>7</td>\n",
       "      <td>1</td>\n",
       "      <td>4</td>\n",
       "      <td>14</td>\n",
       "      <td>1</td>\n",
       "      <td>0</td>\n",
       "      <td>3</td>\n",
       "      <td>1</td>\n",
       "      <td>...</td>\n",
       "      <td>60.000000</td>\n",
       "      <td>55.605755</td>\n",
       "      <td>58.137767</td>\n",
       "      <td>94.000000</td>\n",
       "      <td>82.097503</td>\n",
       "      <td>51.419841</td>\n",
       "      <td>98.183502</td>\n",
       "      <td>54.000000</td>\n",
       "      <td>94.191295</td>\n",
       "      <td>1.067814</td>\n",
       "    </tr>\n",
       "    <tr>\n",
       "      <th>b1b35ff97723d9b7ade1c9c3cf48f770</th>\n",
       "      <td>453</td>\n",
       "      <td>22</td>\n",
       "      <td>7</td>\n",
       "      <td>1</td>\n",
       "      <td>3</td>\n",
       "      <td>42</td>\n",
       "      <td>0</td>\n",
       "      <td>1</td>\n",
       "      <td>1</td>\n",
       "      <td>0</td>\n",
       "      <td>...</td>\n",
       "      <td>72.000000</td>\n",
       "      <td>50.477718</td>\n",
       "      <td>60.000000</td>\n",
       "      <td>96.187317</td>\n",
       "      <td>90.088845</td>\n",
       "      <td>60.000000</td>\n",
       "      <td>60.959003</td>\n",
       "      <td>58.034473</td>\n",
       "      <td>70.114193</td>\n",
       "      <td>0.972764</td>\n",
       "    </tr>\n",
       "  </tbody>\n",
       "</table>\n",
       "<p>5 rows × 309 columns</p>\n",
       "</div>"
      ],
      "text/plain": [
       "                                  game_time  game_mode  lobby_type  \\\n",
       "match_id_hash                                                        \n",
       "a400b8f29dece5f4d266f49f1ae2e98a        155         22           7   \n",
       "b9c57c450ce74a2af79c9ce96fac144d        658          4           0   \n",
       "6db558535151ea18ca70a6892197db41         21         23           0   \n",
       "46a0ddce8f7ed2a8d9bd5edcbb925682        576         22           7   \n",
       "b1b35ff97723d9b7ade1c9c3cf48f770        453         22           7   \n",
       "\n",
       "                                  objectives_len  chat_len  r1_hero_id  \\\n",
       "match_id_hash                                                            \n",
       "a400b8f29dece5f4d266f49f1ae2e98a               1        11          11   \n",
       "b9c57c450ce74a2af79c9ce96fac144d               3        10          15   \n",
       "6db558535151ea18ca70a6892197db41               0         0         101   \n",
       "46a0ddce8f7ed2a8d9bd5edcbb925682               1         4          14   \n",
       "b1b35ff97723d9b7ade1c9c3cf48f770               1         3          42   \n",
       "\n",
       "                                  r1_kills  r1_deaths  r1_assists  r1_denies  \\\n",
       "match_id_hash                                                                  \n",
       "a400b8f29dece5f4d266f49f1ae2e98a         0          0           0          0   \n",
       "b9c57c450ce74a2af79c9ce96fac144d         7          2           0          7   \n",
       "6db558535151ea18ca70a6892197db41         0          0           0          0   \n",
       "46a0ddce8f7ed2a8d9bd5edcbb925682         1          0           3          1   \n",
       "b1b35ff97723d9b7ade1c9c3cf48f770         0          1           1          0   \n",
       "\n",
       "                                  ...    r2_dist     r3_dist     r4_dist  \\\n",
       "match_id_hash                     ...                                      \n",
       "a400b8f29dece5f4d266f49f1ae2e98a  ...  67.201190   70.000000  100.000000   \n",
       "b9c57c450ce74a2af79c9ce96fac144d  ...  88.022724  104.995238  104.804580   \n",
       "6db558535151ea18ca70a6892197db41  ...  82.219219   66.000000   72.000000   \n",
       "46a0ddce8f7ed2a8d9bd5edcbb925682  ...  60.000000   55.605755   58.137767   \n",
       "b1b35ff97723d9b7ade1c9c3cf48f770  ...  72.000000   50.477718   60.000000   \n",
       "\n",
       "                                     r5_dist    d1_dist    d2_dist    d3_dist  \\\n",
       "match_id_hash                                                                   \n",
       "a400b8f29dece5f4d266f49f1ae2e98a   51.923020  89.106678  66.121101  72.691127   \n",
       "b9c57c450ce74a2af79c9ce96fac144d  101.862653  68.117545  68.000000  38.832976   \n",
       "6db558535151ea18ca70a6892197db41   64.000000  41.617304  63.529521  38.832976   \n",
       "46a0ddce8f7ed2a8d9bd5edcbb925682   94.000000  82.097503  51.419841  98.183502   \n",
       "b1b35ff97723d9b7ade1c9c3cf48f770   96.187317  90.088845  60.000000  60.959003   \n",
       "\n",
       "                                    d4_dist    d5_dist  dist_prop  \n",
       "match_id_hash                                                      \n",
       "a400b8f29dece5f4d266f49f1ae2e98a  80.224684  50.477718   1.031895  \n",
       "b9c57c450ce74a2af79c9ce96fac144d  40.000000  26.000000   0.602851  \n",
       "6db558535151ea18ca70a6892197db41  39.446166  18.973666   0.593917  \n",
       "46a0ddce8f7ed2a8d9bd5edcbb925682  54.000000  94.191295   1.067814  \n",
       "b1b35ff97723d9b7ade1c9c3cf48f770  58.034473  70.114193   0.972764  \n",
       "\n",
       "[5 rows x 309 columns]"
      ]
     },
     "execution_count": 42,
     "metadata": {},
     "output_type": "execute_result"
    }
   ],
   "source": [
    "df.head()"
   ]
  },
  {
   "cell_type": "code",
   "execution_count": 43,
   "metadata": {},
   "outputs": [],
   "source": [
    "test_items = pd.read_csv('test_items.csv', index_col='match_id_hash')"
   ]
  },
  {
   "cell_type": "code",
   "execution_count": 44,
   "metadata": {},
   "outputs": [],
   "source": [
    "train_items = pd.read_csv('train_items.csv', index_col='match_id_hash')"
   ]
  },
  {
   "cell_type": "code",
   "execution_count": 45,
   "metadata": {},
   "outputs": [],
   "source": [
    "df_items = pd.concat([train_items, test_items])"
   ]
  },
  {
   "cell_type": "code",
   "execution_count": 46,
   "metadata": {},
   "outputs": [],
   "source": [
    "df = pd.concat([df, df_items], axis = 1)"
   ]
  },
  {
   "cell_type": "code",
   "execution_count": null,
   "metadata": {},
   "outputs": [],
   "source": []
  },
  {
   "cell_type": "code",
   "execution_count": null,
   "metadata": {},
   "outputs": [],
   "source": []
  },
  {
   "cell_type": "code",
   "execution_count": null,
   "metadata": {},
   "outputs": [],
   "source": []
  },
  {
   "cell_type": "code",
   "execution_count": null,
   "metadata": {},
   "outputs": [],
   "source": []
  },
  {
   "cell_type": "code",
   "execution_count": null,
   "metadata": {},
   "outputs": [],
   "source": []
  },
  {
   "cell_type": "code",
   "execution_count": null,
   "metadata": {},
   "outputs": [],
   "source": []
  },
  {
   "cell_type": "code",
   "execution_count": 47,
   "metadata": {},
   "outputs": [],
   "source": [
    "n_fold = 5\n",
    "folds = StratifiedKFold(n_splits=n_fold, shuffle=True, random_state=42)"
   ]
  },
  {
   "cell_type": "code",
   "execution_count": 48,
   "metadata": {},
   "outputs": [
    {
     "data": {
      "text/plain": [
       "(49675, 693)"
      ]
     },
     "execution_count": 48,
     "metadata": {},
     "output_type": "execute_result"
    }
   ],
   "source": [
    "df.shape"
   ]
  },
  {
   "cell_type": "code",
   "execution_count": 49,
   "metadata": {},
   "outputs": [],
   "source": [
    "df = df.drop('r1_roshans_killed', axis = 1)\n",
    "df = df.drop('r2_roshans_killed', axis = 1)\n",
    "df = df.drop('r3_roshans_killed', axis = 1)\n",
    "df = df.drop('r4_roshans_killed', axis = 1)\n",
    "df = df.drop('r5_roshans_killed', axis = 1)"
   ]
  },
  {
   "cell_type": "code",
   "execution_count": 50,
   "metadata": {},
   "outputs": [],
   "source": [
    "df = df.drop('d1_roshans_killed', axis = 1)\n",
    "df = df.drop('d2_roshans_killed', axis = 1)\n",
    "df = df.drop('d3_roshans_killed', axis = 1)\n",
    "df = df.drop('d4_roshans_killed', axis = 1)\n",
    "df = df.drop('d5_roshans_killed', axis = 1)"
   ]
  },
  {
   "cell_type": "code",
   "execution_count": 51,
   "metadata": {},
   "outputs": [
    {
     "data": {
      "text/plain": [
       "(49675, 683)"
      ]
     },
     "execution_count": 51,
     "metadata": {},
     "output_type": "execute_result"
    }
   ],
   "source": [
    "df.shape"
   ]
  },
  {
   "cell_type": "code",
   "execution_count": null,
   "metadata": {},
   "outputs": [],
   "source": []
  },
  {
   "cell_type": "code",
   "execution_count": null,
   "metadata": {},
   "outputs": [],
   "source": []
  },
  {
   "cell_type": "code",
   "execution_count": null,
   "metadata": {},
   "outputs": [],
   "source": []
  },
  {
   "cell_type": "code",
   "execution_count": null,
   "metadata": {},
   "outputs": [],
   "source": []
  },
  {
   "cell_type": "code",
   "execution_count": null,
   "metadata": {},
   "outputs": [],
   "source": []
  },
  {
   "cell_type": "code",
   "execution_count": null,
   "metadata": {},
   "outputs": [],
   "source": []
  },
  {
   "cell_type": "code",
   "execution_count": null,
   "metadata": {},
   "outputs": [],
   "source": []
  },
  {
   "cell_type": "code",
   "execution_count": 52,
   "metadata": {},
   "outputs": [],
   "source": [
    "train = df[:split_index].copy()\n",
    "test = df[split_index:].copy()"
   ]
  },
  {
   "cell_type": "code",
   "execution_count": 53,
   "metadata": {},
   "outputs": [
    {
     "data": {
      "text/html": [
       "<div>\n",
       "<style scoped>\n",
       "    .dataframe tbody tr th:only-of-type {\n",
       "        vertical-align: middle;\n",
       "    }\n",
       "\n",
       "    .dataframe tbody tr th {\n",
       "        vertical-align: top;\n",
       "    }\n",
       "\n",
       "    .dataframe thead th {\n",
       "        text-align: right;\n",
       "    }\n",
       "</style>\n",
       "<table border=\"1\" class=\"dataframe\">\n",
       "  <thead>\n",
       "    <tr style=\"text-align: right;\">\n",
       "      <th></th>\n",
       "      <th>game_time</th>\n",
       "      <th>game_mode</th>\n",
       "      <th>lobby_type</th>\n",
       "      <th>objectives_len</th>\n",
       "      <th>chat_len</th>\n",
       "      <th>r1_hero_id</th>\n",
       "      <th>r1_kills</th>\n",
       "      <th>r1_deaths</th>\n",
       "      <th>r1_assists</th>\n",
       "      <th>r1_denies</th>\n",
       "      <th>...</th>\n",
       "      <th>d_item_urn_of_shadows</th>\n",
       "      <th>d_item_vanguard</th>\n",
       "      <th>d_item_veil_of_discord</th>\n",
       "      <th>d_item_vitality_booster</th>\n",
       "      <th>d_item_vladmir</th>\n",
       "      <th>d_item_void_stone</th>\n",
       "      <th>d_item_ward_dispenser</th>\n",
       "      <th>d_item_wind_lace</th>\n",
       "      <th>d_item_wraith_band</th>\n",
       "      <th>d_item_yasha</th>\n",
       "    </tr>\n",
       "    <tr>\n",
       "      <th>match_id_hash</th>\n",
       "      <th></th>\n",
       "      <th></th>\n",
       "      <th></th>\n",
       "      <th></th>\n",
       "      <th></th>\n",
       "      <th></th>\n",
       "      <th></th>\n",
       "      <th></th>\n",
       "      <th></th>\n",
       "      <th></th>\n",
       "      <th></th>\n",
       "      <th></th>\n",
       "      <th></th>\n",
       "      <th></th>\n",
       "      <th></th>\n",
       "      <th></th>\n",
       "      <th></th>\n",
       "      <th></th>\n",
       "      <th></th>\n",
       "      <th></th>\n",
       "      <th></th>\n",
       "    </tr>\n",
       "  </thead>\n",
       "  <tbody>\n",
       "    <tr>\n",
       "      <th>a400b8f29dece5f4d266f49f1ae2e98a</th>\n",
       "      <td>155</td>\n",
       "      <td>22</td>\n",
       "      <td>7</td>\n",
       "      <td>1</td>\n",
       "      <td>11</td>\n",
       "      <td>11</td>\n",
       "      <td>0</td>\n",
       "      <td>0</td>\n",
       "      <td>0</td>\n",
       "      <td>0</td>\n",
       "      <td>...</td>\n",
       "      <td>0.0</td>\n",
       "      <td>0.0</td>\n",
       "      <td>0.0</td>\n",
       "      <td>0.0</td>\n",
       "      <td>0.0</td>\n",
       "      <td>0.0</td>\n",
       "      <td>0.0</td>\n",
       "      <td>0.0</td>\n",
       "      <td>0.0</td>\n",
       "      <td>0.0</td>\n",
       "    </tr>\n",
       "    <tr>\n",
       "      <th>b9c57c450ce74a2af79c9ce96fac144d</th>\n",
       "      <td>658</td>\n",
       "      <td>4</td>\n",
       "      <td>0</td>\n",
       "      <td>3</td>\n",
       "      <td>10</td>\n",
       "      <td>15</td>\n",
       "      <td>7</td>\n",
       "      <td>2</td>\n",
       "      <td>0</td>\n",
       "      <td>7</td>\n",
       "      <td>...</td>\n",
       "      <td>0.0</td>\n",
       "      <td>0.0</td>\n",
       "      <td>0.0</td>\n",
       "      <td>0.0</td>\n",
       "      <td>0.0</td>\n",
       "      <td>0.0</td>\n",
       "      <td>0.0</td>\n",
       "      <td>0.0</td>\n",
       "      <td>1.0</td>\n",
       "      <td>0.0</td>\n",
       "    </tr>\n",
       "    <tr>\n",
       "      <th>6db558535151ea18ca70a6892197db41</th>\n",
       "      <td>21</td>\n",
       "      <td>23</td>\n",
       "      <td>0</td>\n",
       "      <td>0</td>\n",
       "      <td>0</td>\n",
       "      <td>101</td>\n",
       "      <td>0</td>\n",
       "      <td>0</td>\n",
       "      <td>0</td>\n",
       "      <td>0</td>\n",
       "      <td>...</td>\n",
       "      <td>0.0</td>\n",
       "      <td>0.0</td>\n",
       "      <td>0.0</td>\n",
       "      <td>0.0</td>\n",
       "      <td>0.0</td>\n",
       "      <td>0.0</td>\n",
       "      <td>0.0</td>\n",
       "      <td>0.0</td>\n",
       "      <td>1.0</td>\n",
       "      <td>0.0</td>\n",
       "    </tr>\n",
       "    <tr>\n",
       "      <th>46a0ddce8f7ed2a8d9bd5edcbb925682</th>\n",
       "      <td>576</td>\n",
       "      <td>22</td>\n",
       "      <td>7</td>\n",
       "      <td>1</td>\n",
       "      <td>4</td>\n",
       "      <td>14</td>\n",
       "      <td>1</td>\n",
       "      <td>0</td>\n",
       "      <td>3</td>\n",
       "      <td>1</td>\n",
       "      <td>...</td>\n",
       "      <td>0.0</td>\n",
       "      <td>0.0</td>\n",
       "      <td>0.0</td>\n",
       "      <td>0.0</td>\n",
       "      <td>0.0</td>\n",
       "      <td>1.0</td>\n",
       "      <td>0.0</td>\n",
       "      <td>0.0</td>\n",
       "      <td>0.0</td>\n",
       "      <td>0.0</td>\n",
       "    </tr>\n",
       "    <tr>\n",
       "      <th>b1b35ff97723d9b7ade1c9c3cf48f770</th>\n",
       "      <td>453</td>\n",
       "      <td>22</td>\n",
       "      <td>7</td>\n",
       "      <td>1</td>\n",
       "      <td>3</td>\n",
       "      <td>42</td>\n",
       "      <td>0</td>\n",
       "      <td>1</td>\n",
       "      <td>1</td>\n",
       "      <td>0</td>\n",
       "      <td>...</td>\n",
       "      <td>0.0</td>\n",
       "      <td>0.0</td>\n",
       "      <td>0.0</td>\n",
       "      <td>0.0</td>\n",
       "      <td>0.0</td>\n",
       "      <td>0.0</td>\n",
       "      <td>0.0</td>\n",
       "      <td>0.0</td>\n",
       "      <td>0.0</td>\n",
       "      <td>0.0</td>\n",
       "    </tr>\n",
       "  </tbody>\n",
       "</table>\n",
       "<p>5 rows × 683 columns</p>\n",
       "</div>"
      ],
      "text/plain": [
       "                                  game_time  game_mode  lobby_type  \\\n",
       "match_id_hash                                                        \n",
       "a400b8f29dece5f4d266f49f1ae2e98a        155         22           7   \n",
       "b9c57c450ce74a2af79c9ce96fac144d        658          4           0   \n",
       "6db558535151ea18ca70a6892197db41         21         23           0   \n",
       "46a0ddce8f7ed2a8d9bd5edcbb925682        576         22           7   \n",
       "b1b35ff97723d9b7ade1c9c3cf48f770        453         22           7   \n",
       "\n",
       "                                  objectives_len  chat_len  r1_hero_id  \\\n",
       "match_id_hash                                                            \n",
       "a400b8f29dece5f4d266f49f1ae2e98a               1        11          11   \n",
       "b9c57c450ce74a2af79c9ce96fac144d               3        10          15   \n",
       "6db558535151ea18ca70a6892197db41               0         0         101   \n",
       "46a0ddce8f7ed2a8d9bd5edcbb925682               1         4          14   \n",
       "b1b35ff97723d9b7ade1c9c3cf48f770               1         3          42   \n",
       "\n",
       "                                  r1_kills  r1_deaths  r1_assists  r1_denies  \\\n",
       "match_id_hash                                                                  \n",
       "a400b8f29dece5f4d266f49f1ae2e98a         0          0           0          0   \n",
       "b9c57c450ce74a2af79c9ce96fac144d         7          2           0          7   \n",
       "6db558535151ea18ca70a6892197db41         0          0           0          0   \n",
       "46a0ddce8f7ed2a8d9bd5edcbb925682         1          0           3          1   \n",
       "b1b35ff97723d9b7ade1c9c3cf48f770         0          1           1          0   \n",
       "\n",
       "                                  ...  d_item_urn_of_shadows  d_item_vanguard  \\\n",
       "match_id_hash                     ...                                           \n",
       "a400b8f29dece5f4d266f49f1ae2e98a  ...                    0.0              0.0   \n",
       "b9c57c450ce74a2af79c9ce96fac144d  ...                    0.0              0.0   \n",
       "6db558535151ea18ca70a6892197db41  ...                    0.0              0.0   \n",
       "46a0ddce8f7ed2a8d9bd5edcbb925682  ...                    0.0              0.0   \n",
       "b1b35ff97723d9b7ade1c9c3cf48f770  ...                    0.0              0.0   \n",
       "\n",
       "                                  d_item_veil_of_discord  \\\n",
       "match_id_hash                                              \n",
       "a400b8f29dece5f4d266f49f1ae2e98a                     0.0   \n",
       "b9c57c450ce74a2af79c9ce96fac144d                     0.0   \n",
       "6db558535151ea18ca70a6892197db41                     0.0   \n",
       "46a0ddce8f7ed2a8d9bd5edcbb925682                     0.0   \n",
       "b1b35ff97723d9b7ade1c9c3cf48f770                     0.0   \n",
       "\n",
       "                                  d_item_vitality_booster  d_item_vladmir  \\\n",
       "match_id_hash                                                               \n",
       "a400b8f29dece5f4d266f49f1ae2e98a                      0.0             0.0   \n",
       "b9c57c450ce74a2af79c9ce96fac144d                      0.0             0.0   \n",
       "6db558535151ea18ca70a6892197db41                      0.0             0.0   \n",
       "46a0ddce8f7ed2a8d9bd5edcbb925682                      0.0             0.0   \n",
       "b1b35ff97723d9b7ade1c9c3cf48f770                      0.0             0.0   \n",
       "\n",
       "                                  d_item_void_stone  d_item_ward_dispenser  \\\n",
       "match_id_hash                                                                \n",
       "a400b8f29dece5f4d266f49f1ae2e98a                0.0                    0.0   \n",
       "b9c57c450ce74a2af79c9ce96fac144d                0.0                    0.0   \n",
       "6db558535151ea18ca70a6892197db41                0.0                    0.0   \n",
       "46a0ddce8f7ed2a8d9bd5edcbb925682                1.0                    0.0   \n",
       "b1b35ff97723d9b7ade1c9c3cf48f770                0.0                    0.0   \n",
       "\n",
       "                                  d_item_wind_lace  d_item_wraith_band  \\\n",
       "match_id_hash                                                            \n",
       "a400b8f29dece5f4d266f49f1ae2e98a               0.0                 0.0   \n",
       "b9c57c450ce74a2af79c9ce96fac144d               0.0                 1.0   \n",
       "6db558535151ea18ca70a6892197db41               0.0                 1.0   \n",
       "46a0ddce8f7ed2a8d9bd5edcbb925682               0.0                 0.0   \n",
       "b1b35ff97723d9b7ade1c9c3cf48f770               0.0                 0.0   \n",
       "\n",
       "                                  d_item_yasha  \n",
       "match_id_hash                                   \n",
       "a400b8f29dece5f4d266f49f1ae2e98a           0.0  \n",
       "b9c57c450ce74a2af79c9ce96fac144d           0.0  \n",
       "6db558535151ea18ca70a6892197db41           0.0  \n",
       "46a0ddce8f7ed2a8d9bd5edcbb925682           0.0  \n",
       "b1b35ff97723d9b7ade1c9c3cf48f770           0.0  \n",
       "\n",
       "[5 rows x 683 columns]"
      ]
     },
     "execution_count": 53,
     "metadata": {},
     "output_type": "execute_result"
    }
   ],
   "source": [
    "train.head()"
   ]
  },
  {
   "cell_type": "code",
   "execution_count": 54,
   "metadata": {},
   "outputs": [],
   "source": [
    "train['radiant_win'] = target['radiant_win']"
   ]
  },
  {
   "cell_type": "code",
   "execution_count": 55,
   "metadata": {},
   "outputs": [
    {
     "name": "stdout",
     "output_type": "stream",
     "text": [
      "Fold 0 started at Sun Oct 13 05:39:53 2019\n",
      "Training until validation scores don't improve for 2000 rounds\n",
      "[1000]\ttraining's auc: 0.879343\tvalid_1's auc: 0.82127\n",
      "[2000]\ttraining's auc: 0.925363\tvalid_1's auc: 0.826476\n",
      "[3000]\ttraining's auc: 0.956157\tvalid_1's auc: 0.828477\n",
      "[4000]\ttraining's auc: 0.976018\tvalid_1's auc: 0.829106\n",
      "[5000]\ttraining's auc: 0.988046\tvalid_1's auc: 0.829349\n",
      "[6000]\ttraining's auc: 0.994608\tvalid_1's auc: 0.829204\n",
      "Early stopping, best iteration is:\n",
      "[4656]\ttraining's auc: 0.984636\tvalid_1's auc: 0.829462\n",
      "Fold 1 started at Sun Oct 13 05:40:24 2019\n",
      "Training until validation scores don't improve for 2000 rounds\n",
      "[1000]\ttraining's auc: 0.881891\tvalid_1's auc: 0.80962\n",
      "[2000]\ttraining's auc: 0.927361\tvalid_1's auc: 0.814021\n",
      "[3000]\ttraining's auc: 0.957454\tvalid_1's auc: 0.815965\n",
      "[4000]\ttraining's auc: 0.976608\tvalid_1's auc: 0.816378\n",
      "[5000]\ttraining's auc: 0.988269\tvalid_1's auc: 0.816455\n",
      "[6000]\ttraining's auc: 0.994533\tvalid_1's auc: 0.816527\n",
      "[7000]\ttraining's auc: 0.997752\tvalid_1's auc: 0.816534\n",
      "Early stopping, best iteration is:\n",
      "[5410]\ttraining's auc: 0.991347\tvalid_1's auc: 0.816645\n",
      "Fold 2 started at Sun Oct 13 05:40:59 2019\n",
      "Training until validation scores don't improve for 2000 rounds\n",
      "[1000]\ttraining's auc: 0.879121\tvalid_1's auc: 0.826149\n",
      "[2000]\ttraining's auc: 0.925406\tvalid_1's auc: 0.829895\n",
      "[3000]\ttraining's auc: 0.955909\tvalid_1's auc: 0.831237\n",
      "[4000]\ttraining's auc: 0.975733\tvalid_1's auc: 0.831561\n",
      "[5000]\ttraining's auc: 0.987764\tvalid_1's auc: 0.831867\n",
      "[6000]\ttraining's auc: 0.994519\tvalid_1's auc: 0.831805\n",
      "Early stopping, best iteration is:\n",
      "[4775]\ttraining's auc: 0.98559\tvalid_1's auc: 0.832011\n",
      "Fold 3 started at Sun Oct 13 05:41:31 2019\n",
      "Training until validation scores don't improve for 2000 rounds\n",
      "[1000]\ttraining's auc: 0.879504\tvalid_1's auc: 0.823391\n",
      "[2000]\ttraining's auc: 0.925512\tvalid_1's auc: 0.827487\n",
      "[3000]\ttraining's auc: 0.956183\tvalid_1's auc: 0.828642\n",
      "[4000]\ttraining's auc: 0.976013\tvalid_1's auc: 0.829272\n",
      "[5000]\ttraining's auc: 0.98795\tvalid_1's auc: 0.829527\n",
      "[6000]\ttraining's auc: 0.994474\tvalid_1's auc: 0.829501\n",
      "Early stopping, best iteration is:\n",
      "[4908]\ttraining's auc: 0.9871\tvalid_1's auc: 0.829654\n",
      "Fold 4 started at Sun Oct 13 05:42:03 2019\n",
      "Training until validation scores don't improve for 2000 rounds\n",
      "[1000]\ttraining's auc: 0.879005\tvalid_1's auc: 0.822493\n",
      "[2000]\ttraining's auc: 0.924856\tvalid_1's auc: 0.827102\n",
      "[3000]\ttraining's auc: 0.956034\tvalid_1's auc: 0.828803\n",
      "[4000]\ttraining's auc: 0.975948\tvalid_1's auc: 0.82957\n",
      "[5000]\ttraining's auc: 0.987697\tvalid_1's auc: 0.829943\n",
      "[6000]\ttraining's auc: 0.994253\tvalid_1's auc: 0.830085\n",
      "[7000]\ttraining's auc: 0.997586\tvalid_1's auc: 0.829928\n",
      "Early stopping, best iteration is:\n",
      "[5700]\ttraining's auc: 0.992685\tvalid_1's auc: 0.830224\n",
      "CV mean score: 0.8276, std: 0.0056.\n"
     ]
    },
    {
     "data": {
      "image/png": "[encoded data removed]",
      "text/plain": [
       "<Figure size 1152x720 with 1 Axes>"
      ]
     },
     "metadata": {
      "needs_background": "light"
     },
     "output_type": "display_data"
    }
   ],
   "source": [
    "params = {'boost': 'gbdt',\n",
    "          'feature_fraction': 0.05,\n",
    "          'learning_rate': 0.01,\n",
    "          'max_depth': -1,  \n",
    "          'metric':'auc',\n",
    "          'min_data_in_leaf': 50,\n",
    "          'num_leaves': 32,\n",
    "          'num_threads': -1,\n",
    "          'verbosity': 1,\n",
    "          'objective': 'binary'\n",
    "         }\n",
    "\n",
    "X = train.drop(['radiant_win'], axis=1).reset_index(drop=True)\n",
    "y = target['radiant_win']\n",
    "X_test = test.reset_index(drop=True)\n",
    "\n",
    "oof_lgb, prediction_lgb, scores = train_model(X, X_test, y, params=params, folds=folds, model_type='lgb', plot_feature_importance=True, silent = False)"
   ]
  },
  {
   "cell_type": "code",
   "execution_count": 56,
   "metadata": {},
   "outputs": [],
   "source": [
    "# CV mean score: 0.8246, std: 0.0058"
   ]
  },
  {
   "cell_type": "code",
   "execution_count": 57,
   "metadata": {},
   "outputs": [],
   "source": [
    "# CV mean score: 0.8247, std: 0.0055"
   ]
  },
  {
   "cell_type": "code",
   "execution_count": 58,
   "metadata": {},
   "outputs": [],
   "source": [
    "# CV mean score: 0.8245, std: 0.0055 - drop R1_roshans_killed"
   ]
  },
  {
   "cell_type": "code",
   "execution_count": 59,
   "metadata": {},
   "outputs": [],
   "source": [
    "# CV mean score: 0.8222, std: 0.0104"
   ]
  },
  {
   "cell_type": "code",
   "execution_count": 60,
   "metadata": {},
   "outputs": [
    {
     "data": {
      "text/plain": [
       "array([0.5463043 , 0.99318705, 0.96148037, ..., 0.48704233, 0.82171963,\n",
       "       0.05766455])"
      ]
     },
     "execution_count": 60,
     "metadata": {},
     "output_type": "execute_result"
    }
   ],
   "source": [
    "prediction_lgb"
   ]
  },
  {
   "cell_type": "code",
   "execution_count": 61,
   "metadata": {},
   "outputs": [
    {
     "data": {
      "text/plain": [
       "array([0.16407808, 0.96560349, 0.53759222, ..., 0.07155057, 0.88197511,\n",
       "       0.72697807])"
      ]
     },
     "execution_count": 61,
     "metadata": {},
     "output_type": "execute_result"
    }
   ],
   "source": [
    "oof_lgb"
   ]
  },
  {
   "cell_type": "code",
   "execution_count": 62,
   "metadata": {},
   "outputs": [],
   "source": [
    "df_submission = pd.DataFrame({'radiant_win_prob': prediction_lgb}, \n",
    "                                 index=test.index)\n",
    "df_submission.to_csv('Submission4_LBG_items.csv')"
   ]
  },
  {
   "cell_type": "code",
   "execution_count": 63,
   "metadata": {},
   "outputs": [
    {
     "data": {
      "image/png": "[encoded data removed]",
      "text/plain": [
       "<Figure size 432x288 with 1 Axes>"
      ]
     },
     "metadata": {
      "needs_background": "light"
     },
     "output_type": "display_data"
    }
   ],
   "source": [
    "plt.hist(prediction_lgb, bins=40);\n",
    "plt.title('Distribution of predictions');"
   ]
  },
  {
   "cell_type": "code",
   "execution_count": null,
   "metadata": {},
   "outputs": [],
   "source": []
  }
 ],
 "metadata": {
  "kernelspec": {
   "display_name": "Python 3",
   "language": "python",
   "name": "python3"
  },
  "language_info": {
   "codemirror_mode": {
    "name": "ipython",
    "version": 3
   },
   "file_extension": ".py",
   "mimetype": "text/x-python",
   "name": "python",
   "nbconvert_exporter": "python",
   "pygments_lexer": "ipython3",
   "version": "3.7.3"
  }
 },
 "nbformat": 4,
 "nbformat_minor": 2
}
